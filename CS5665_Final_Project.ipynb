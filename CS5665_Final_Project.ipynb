{
  "nbformat": 4,
  "nbformat_minor": 0,
  "metadata": {
    "accelerator": "GPU",
    "colab": {
      "name": "CS5665 Final Project For Real.ipynb",
      "provenance": [],
      "collapsed_sections": [],
      "toc_visible": true
    },
    "kernelspec": {
      "display_name": "Python 3",
      "name": "python3"
    }
  },
  "cells": [
    {
      "cell_type": "markdown",
      "metadata": {
        "id": "6FaGaYwxsKVB"
      },
      "source": [
        "This is the notebook for my final project in CS 5665 - Introduction to Data Science. The link to the kaggle competition can be found here [INGV - Volcanic Eruption Prediction](https://https://www.kaggle.com/c/predict-volcanic-eruptions-ingv-oe)"
      ]
    },
    {
      "cell_type": "code",
      "metadata": {
        "id": "95XAmyZYsEKn"
      },
      "source": [
        "import pandas as pd\n",
        "from glob import glob\n",
        "import numpy as np\n",
        "import matplotlib.pyplot as plt\n",
        "import os\n",
        "import math\n",
        "from scipy.stats import kurtosis, skew\n",
        "import scipy.signal\n",
        "\n",
        "from sklearn.linear_model import LinearRegression\n",
        "from sklearn.tree import DecisionTreeRegressor\n",
        "from sklearn.ensemble import RandomForestRegressor\n",
        "from sklearn import metrics\n",
        "from sklearn.model_selection import train_test_split, KFold\n",
        "\n",
        "import torch\n",
        "import torch.optim as optim\n",
        "from torch import nn"
      ],
      "execution_count": 1,
      "outputs": []
    },
    {
      "cell_type": "markdown",
      "metadata": {
        "id": "RtnAleCQFz0_"
      },
      "source": [
        "## Loading Data"
      ]
    },
    {
      "cell_type": "markdown",
      "metadata": {
        "id": "Vjf1OBwhsh3r"
      },
      "source": [
        "The dataset is ~30 GB. So I decided to download it and place it on my google drive instead of uploading it to google colab each time"
      ]
    },
    {
      "cell_type": "code",
      "metadata": {
        "colab": {
          "base_uri": "https://localhost:8080/"
        },
        "id": "qcBZ-Migsf9t",
        "outputId": "5d5444ee-71d2-4968-c1d8-d68fc7979cd1"
      },
      "source": [
        "from google.colab import drive\n",
        "drive.mount('/content/drive/')"
      ],
      "execution_count": 2,
      "outputs": [
        {
          "output_type": "stream",
          "text": [
            "Mounted at /content/drive/\n"
          ],
          "name": "stdout"
        }
      ]
    },
    {
      "cell_type": "code",
      "metadata": {
        "id": "ct8XZb1rsxjb"
      },
      "source": [
        "base_dir = \"/content/drive/My Drive/CS 5665/Final Project/data/\"\n",
        "\n",
        "train_file = f\"{base_dir}train.csv\"\n",
        "train_dir = f\"{base_dir}train/\"\n",
        "test_dir = f\"{base_dir}test/\""
      ],
      "execution_count": 3,
      "outputs": []
    },
    {
      "cell_type": "markdown",
      "metadata": {
        "id": "M6gtSe_7tDz8"
      },
      "source": [
        "The training file contains a segment_id and the time_to_eruption. There is a corresponding file in the training directory that matches up to a segment_id and contains 60,001 points over 10 sensors, so a total of 600,010 points per training segment. Any attempt to use the entire dataset would give me memory errors, so all my techniques involve reducing the dimension and extracting useful features"
      ]
    },
    {
      "cell_type": "code",
      "metadata": {
        "colab": {
          "base_uri": "https://localhost:8080/",
          "height": 233
        },
        "id": "OfpCU3als7eP",
        "outputId": "0ea25d76-c79c-48fc-de5e-2c0d52ce5e51"
      },
      "source": [
        "training_labels = pd.read_csv(train_file)\n",
        "training_labels['segment_id'] = training_labels['segment_id'].astype(str)\n",
        "training_labels.set_index('segment_id', inplace=True)\n",
        "training_labels.head()"
      ],
      "execution_count": 4,
      "outputs": [
        {
          "output_type": "execute_result",
          "data": {
            "text/html": [
              "<div>\n",
              "<style scoped>\n",
              "    .dataframe tbody tr th:only-of-type {\n",
              "        vertical-align: middle;\n",
              "    }\n",
              "\n",
              "    .dataframe tbody tr th {\n",
              "        vertical-align: top;\n",
              "    }\n",
              "\n",
              "    .dataframe thead th {\n",
              "        text-align: right;\n",
              "    }\n",
              "</style>\n",
              "<table border=\"1\" class=\"dataframe\">\n",
              "  <thead>\n",
              "    <tr style=\"text-align: right;\">\n",
              "      <th></th>\n",
              "      <th>time_to_eruption</th>\n",
              "    </tr>\n",
              "    <tr>\n",
              "      <th>segment_id</th>\n",
              "      <th></th>\n",
              "    </tr>\n",
              "  </thead>\n",
              "  <tbody>\n",
              "    <tr>\n",
              "      <th>1136037770</th>\n",
              "      <td>12262005</td>\n",
              "    </tr>\n",
              "    <tr>\n",
              "      <th>1969647810</th>\n",
              "      <td>32739612</td>\n",
              "    </tr>\n",
              "    <tr>\n",
              "      <th>1895879680</th>\n",
              "      <td>14965999</td>\n",
              "    </tr>\n",
              "    <tr>\n",
              "      <th>2068207140</th>\n",
              "      <td>26469720</td>\n",
              "    </tr>\n",
              "    <tr>\n",
              "      <th>192955606</th>\n",
              "      <td>31072429</td>\n",
              "    </tr>\n",
              "  </tbody>\n",
              "</table>\n",
              "</div>"
            ],
            "text/plain": [
              "            time_to_eruption\n",
              "segment_id                  \n",
              "1136037770          12262005\n",
              "1969647810          32739612\n",
              "1895879680          14965999\n",
              "2068207140          26469720\n",
              "192955606           31072429"
            ]
          },
          "metadata": {
            "tags": []
          },
          "execution_count": 4
        }
      ]
    },
    {
      "cell_type": "code",
      "metadata": {
        "colab": {
          "base_uri": "https://localhost:8080/"
        },
        "id": "A-8oLg2Gtbf4",
        "outputId": "12684c12-605a-4a7f-935b-b5bc6198ce76"
      },
      "source": [
        "training_segments = glob(f\"{train_dir}*.csv\")\n",
        "testing_segments = glob(f\"{test_dir}*.csv\")\n",
        "print(f\"There are: {len(training_segments)} training files\")\n",
        "print(f\"There are: {len(testing_segments)} testing files\")\n",
        "\n",
        "example_file = training_segments[0]\n",
        "example_df = pd.read_csv(example_file)\n",
        "print(example_df)"
      ],
      "execution_count": 5,
      "outputs": [
        {
          "output_type": "stream",
          "text": [
            "There are: 4431 training files\n",
            "There are: 4520 testing files\n",
            "       sensor_1  sensor_2  sensor_3  ...  sensor_8  sensor_9  sensor_10\n",
            "0          64.0       NaN    -171.0  ...    -522.0     526.0     -239.0\n",
            "1           0.0       NaN    -165.0  ...    -110.0     411.0        2.0\n",
            "2         399.0       NaN    -172.0  ...    -131.0     283.0      265.0\n",
            "3         361.0       NaN    -185.0  ...      29.0     143.0      526.0\n",
            "4         -27.0       NaN    -153.0  ...     267.0     -14.0      742.0\n",
            "...         ...       ...       ...  ...       ...       ...        ...\n",
            "59996      26.0       NaN    -424.0  ...     363.0     344.0      115.0\n",
            "59997   -1243.0       NaN    -438.0  ...     382.0     333.0     -101.0\n",
            "59998    -865.0       NaN    -491.0  ...     136.0     352.0     -210.0\n",
            "59999     -21.0       NaN    -591.0  ...     214.0     343.0     -228.0\n",
            "60000     911.0       NaN    -592.0  ...    -267.0     313.0     -397.0\n",
            "\n",
            "[60001 rows x 10 columns]\n"
          ],
          "name": "stdout"
        }
      ]
    },
    {
      "cell_type": "markdown",
      "metadata": {
        "id": "ApkOV6NruAri"
      },
      "source": [
        "## Time Domain Feature Extraction"
      ]
    },
    {
      "cell_type": "markdown",
      "metadata": {
        "id": "KoDyYWOfykjX"
      },
      "source": [
        "My first attempt is extracting features such as mean, stddev, max, and min from the sensors and trying to predict based on those"
      ]
    },
    {
      "cell_type": "markdown",
      "metadata": {
        "id": "2yplYWk6CNlx"
      },
      "source": [
        "### Load time domain features of each signal"
      ]
    },
    {
      "cell_type": "code",
      "metadata": {
        "id": "Vl3NbFrwtl51"
      },
      "source": [
        "def get_time_features(csv_files, label_file=None):\n",
        "    dataset = []\n",
        "    labels = []\n",
        "    ids = []\n",
        "\n",
        "    for csv_no, csv_file in enumerate(csv_files):\n",
        "        unique_id = os.path.basename(csv_file).split('.')[0]\n",
        "        ids.append(unique_id)\n",
        "        if csv_no % 500 == 0:\n",
        "            print(f\"loaded: {csv_no} files\")\n",
        "        if label_file is not None:\n",
        "            time_to_eruption = label_file.loc[unique_id].time_to_eruption\n",
        "            labels.append(time_to_eruption)\n",
        "        df = pd.read_csv(csv_file)\n",
        "        df.fillna(0, inplace=True)\n",
        "        features = []\n",
        "        for i in df.columns:\n",
        "            signal = df[i]\n",
        "            features.append(signal.sum())\n",
        "            features.append(signal.mean())\n",
        "            features.append(signal.std())\n",
        "            features.append(signal.var())\n",
        "            features.append(signal.max())\n",
        "            features.append(signal.min())\n",
        "            features.append(signal.skew())\n",
        "            features.append(signal.mad())\n",
        "            features.append(np.quantile(signal, 0.99))\n",
        "            features.append(np.quantile(signal, 0.75))\n",
        "            features.append(np.quantile(signal, 0.50))\n",
        "            features.append(np.quantile(signal, 0.25))\n",
        "            features.append(np.quantile(signal, 0.01))\n",
        "        dataset.append(features)\n",
        "    return np.array(dataset), np.array(labels), np.array(ids)"
      ],
      "execution_count": 6,
      "outputs": []
    },
    {
      "cell_type": "code",
      "metadata": {
        "colab": {
          "base_uri": "https://localhost:8080/"
        },
        "id": "DdIWQoa2uZLG",
        "outputId": "0f4461a2-47c3-446d-9c2d-53afa692ca7f"
      },
      "source": [
        "X, Y, train_ids = get_time_features(training_segments, training_labels)\n",
        "Y = Y.reshape((-1, 1))\n",
        "pd.DataFrame(X).to_csv('training_features_time.csv', index=False)\n",
        "pd.DataFrame(Y).to_csv('training_labels_time.csv', index=False)\n",
        "\n",
        "test_x, _, test_ids = get_time_features(testing_segments)\n",
        "pd.DataFrame(test_x).to_csv('testing_features_time.csv', index=False)\n",
        "pd.DataFrame(test_ids).to_csv('test_ids_time.csv', index=False)\n",
        "\n",
        "print(X.shape, Y.shape)\n",
        "print(test_x.shape)"
      ],
      "execution_count": 7,
      "outputs": [
        {
          "output_type": "stream",
          "text": [
            "loaded: 0 files\n",
            "loaded: 500 files\n",
            "loaded: 1000 files\n",
            "loaded: 1500 files\n",
            "loaded: 2000 files\n",
            "loaded: 2500 files\n",
            "loaded: 3000 files\n",
            "loaded: 3500 files\n",
            "loaded: 4000 files\n",
            "loaded: 0 files\n",
            "loaded: 500 files\n",
            "loaded: 1000 files\n",
            "loaded: 1500 files\n",
            "loaded: 2000 files\n",
            "loaded: 2500 files\n",
            "loaded: 3000 files\n",
            "loaded: 3500 files\n",
            "loaded: 4000 files\n",
            "loaded: 4500 files\n",
            "(4431, 130) (4431, 1)\n",
            "(4520, 130)\n"
          ],
          "name": "stdout"
        }
      ]
    },
    {
      "cell_type": "markdown",
      "metadata": {
        "id": "q1flyp8i4vKa"
      },
      "source": [
        "Now that we have some features we can work with, lets try a few methods to predict the testing data"
      ]
    },
    {
      "cell_type": "code",
      "metadata": {
        "id": "t8CRHcRy788K"
      },
      "source": [
        "train_x, val_x, train_y, val_y = train_test_split(X, Y, test_size=0.2)"
      ],
      "execution_count": 8,
      "outputs": []
    },
    {
      "cell_type": "markdown",
      "metadata": {
        "id": "3dHeuMxIYpQY"
      },
      "source": [
        "### Linear Regression Baseline"
      ]
    },
    {
      "cell_type": "code",
      "metadata": {
        "id": "6VC2aqfPYsBc"
      },
      "source": [
        "reg_time = LinearRegression()\n",
        "reg_time.fit(train_x, train_y)\n",
        "train_pred = reg_time.predict(train_x)\n",
        "val_pred = reg_time.predict(val_x)\n",
        "lin_train_score_time = np.sqrt(metrics.mean_squared_error(train_y, train_pred))\n",
        "lin_val_score_time = np.sqrt(metrics.mean_squared_error(val_y, val_pred))"
      ],
      "execution_count": 9,
      "outputs": []
    },
    {
      "cell_type": "code",
      "metadata": {
        "colab": {
          "base_uri": "https://localhost:8080/"
        },
        "id": "Eh61jdLwYx1b",
        "outputId": "5224e1c9-48a0-49c0-aaf6-2088ac3243e0"
      },
      "source": [
        "print(f'Root Mean Squared Error Train: {lin_train_score_time}')\n",
        "print(f'Root Mean Squared Error Validation: {lin_val_score_time}')"
      ],
      "execution_count": 10,
      "outputs": [
        {
          "output_type": "stream",
          "text": [
            "Root Mean Squared Error Train: 11560985.433309436\n",
            "Root Mean Squared Error Validation: 12409603.462650433\n"
          ],
          "name": "stdout"
        }
      ]
    },
    {
      "cell_type": "markdown",
      "metadata": {
        "id": "XSPjMFjJY7T7"
      },
      "source": [
        "### Decision Tree"
      ]
    },
    {
      "cell_type": "code",
      "metadata": {
        "id": "j239ZrKMY9gk"
      },
      "source": [
        "dec_time = DecisionTreeRegressor()\n",
        "dec_time.fit(train_x, train_y.ravel())\n",
        "train_pred = dec_time.predict(train_x)\n",
        "val_pred = dec_time.predict(val_x)\n",
        "dt_train_score_time = np.sqrt(metrics.mean_squared_error(train_y, train_pred))\n",
        "dt_val_score_time = np.sqrt(metrics.mean_squared_error(val_y, val_pred))"
      ],
      "execution_count": 11,
      "outputs": []
    },
    {
      "cell_type": "code",
      "metadata": {
        "colab": {
          "base_uri": "https://localhost:8080/"
        },
        "id": "UWizZMZcZBcB",
        "outputId": "623303a7-6ad6-4501-c3e3-20b2f1f4dec3"
      },
      "source": [
        "print(f'Root Mean Squared Error Train: {dt_train_score_time}')\n",
        "print(f'Root Mean Squared Error Validation: {dt_val_score_time}')"
      ],
      "execution_count": 12,
      "outputs": [
        {
          "output_type": "stream",
          "text": [
            "Root Mean Squared Error Train: 0.0\n",
            "Root Mean Squared Error Validation: 9930223.200128866\n"
          ],
          "name": "stdout"
        }
      ]
    },
    {
      "cell_type": "markdown",
      "metadata": {
        "id": "CPIm-VvWCV7Y"
      },
      "source": [
        "### Random Forest"
      ]
    },
    {
      "cell_type": "code",
      "metadata": {
        "id": "7u-lniYrudyx"
      },
      "source": [
        "rf_time = RandomForestRegressor(n_estimators=100)\n",
        "rf_time.fit(train_x, train_y.ravel())\n",
        "train_pred = rf_time.predict(train_x)\n",
        "test_pred = rf_time.predict(test_x)\n",
        "val_pred = rf_time.predict(val_x)\n",
        "rf_train_score_time = np.sqrt(metrics.mean_squared_error(train_y, train_pred))\n",
        "rf_val_score_time = np.sqrt(metrics.mean_squared_error(val_y, val_pred))"
      ],
      "execution_count": 13,
      "outputs": []
    },
    {
      "cell_type": "code",
      "metadata": {
        "colab": {
          "base_uri": "https://localhost:8080/"
        },
        "id": "zJhOHISwPPr4",
        "outputId": "00bfec66-b28d-4fd3-ebf0-1dda15d4c133"
      },
      "source": [
        "print(f'Root Mean Squared Error Train: {rf_train_score_time}')\n",
        "print(f'Root Mean Squared Error Validation: {rf_val_score_time}')"
      ],
      "execution_count": 14,
      "outputs": [
        {
          "output_type": "stream",
          "text": [
            "Root Mean Squared Error Train: 2400037.134389696\n",
            "Root Mean Squared Error Validation: 6581023.933463447\n"
          ],
          "name": "stdout"
        }
      ]
    },
    {
      "cell_type": "code",
      "metadata": {
        "id": "dSzzjxYBQTzI"
      },
      "source": [
        "prediction = pd.concat([pd.DataFrame(test_ids), pd.DataFrame(test_pred)], axis=1)\n",
        "prediction.to_csv(\"rf_time.csv\", index=False, header=['segment_id', 'time_to_eruption'])"
      ],
      "execution_count": 15,
      "outputs": []
    },
    {
      "cell_type": "markdown",
      "metadata": {
        "id": "b3AiBLonCZF5"
      },
      "source": [
        "### Deep Neural Network"
      ]
    },
    {
      "cell_type": "code",
      "metadata": {
        "id": "euEb9odPSRkQ"
      },
      "source": [
        "from torch.utils.data import Dataset, DataLoader\n",
        "\n",
        "class VolcanoDataset(Dataset):\n",
        "    def __init__(self, train_features, train_labels):\n",
        "        super().__init__()\n",
        "        self.train_features = train_features\n",
        "        self.train_labels = train_labels\n",
        "\n",
        "    def __len__(self):\n",
        "        return len(self.train_features)\n",
        "\n",
        "    def __getitem__(self, idx):\n",
        "        if torch.is_tensor(idx):\n",
        "            idx = idx.tolist()\n",
        "        return (self.train_features[idx], self.train_labels[idx])"
      ],
      "execution_count": 16,
      "outputs": []
    },
    {
      "cell_type": "code",
      "metadata": {
        "id": "-7G5YvzLSwW3"
      },
      "source": [
        "class MLP(nn.Module):\n",
        "    def __init__(self):\n",
        "        super().__init__()\n",
        "        self.network = nn.Sequential(\n",
        "            nn.BatchNorm1d(130),\n",
        "            nn.Linear(130, 512),\n",
        "            nn.BatchNorm1d(512),\n",
        "            nn.ReLU(),\n",
        "            nn.Linear(512, 512),\n",
        "            nn.BatchNorm1d(512),\n",
        "            nn.ReLU(),\n",
        "            nn.Linear(512, 512),\n",
        "            nn.BatchNorm1d(512),\n",
        "            nn.ReLU(),\n",
        "            nn.Linear(512, 512),\n",
        "            nn.BatchNorm1d(512),\n",
        "            nn.ReLU(),\n",
        "            nn.Linear(512, 512),\n",
        "            nn.BatchNorm1d(512),\n",
        "            nn.ReLU(),\n",
        "            nn.Linear(512, 1),\n",
        "        )\n",
        "\n",
        "    def forward(self, xb):\n",
        "        xb = self.network(xb)\n",
        "        return xb"
      ],
      "execution_count": 17,
      "outputs": []
    },
    {
      "cell_type": "code",
      "metadata": {
        "id": "mYe1Q6YVcEjk"
      },
      "source": [
        "class RMSELoss(nn.Module):\n",
        "    def __init__(self):\n",
        "        super().__init__()\n",
        "        self.mse = nn.MSELoss()\n",
        "        \n",
        "    def forward(self, yhat, y):\n",
        "        return torch.sqrt(self.mse(yhat, y))"
      ],
      "execution_count": 18,
      "outputs": []
    },
    {
      "cell_type": "code",
      "metadata": {
        "id": "cBVJ984EwSoL"
      },
      "source": [
        "def train(net, train_features, train_labels, val_features, val_labels,\n",
        "          num_epochs, learning_rate, batch_size, lr_step=200):\n",
        "    train_ls, val_ls = [], []\n",
        "    train_dataset = VolcanoDataset(train_features, train_labels)\n",
        "    train_iter = DataLoader(train_dataset, batch_size, shuffle=True)\n",
        "\n",
        "    optimizer = torch.optim.Adam(net.parameters(), lr=learning_rate)\n",
        "    lr_scheduler = optim.lr_scheduler.StepLR(optimizer, step_size=lr_step, gamma=0.1)   \n",
        "    criterion = RMSELoss()\n",
        "\n",
        "    if val_labels is not None:\n",
        "        min_test_ls = math.inf\n",
        "        val_features = torch.from_numpy(val_x).float().cuda()\n",
        "        val_labels = torch.from_numpy(val_y).float().cuda()\n",
        "\n",
        "    for epoch in range(num_epochs):\n",
        "        running_loss = 0.0\n",
        "        for X_batch, y_batch in train_iter:\n",
        "            X_batch, y_batch = X_batch.cuda(), y_batch.cuda()\n",
        "            yhat = net(X_batch.float())\n",
        "            loss = criterion(yhat, y_batch.float())\n",
        "\n",
        "            optimizer.zero_grad()\n",
        "            loss.backward()\n",
        "            optimizer.step()\n",
        "\n",
        "            running_loss += loss.item() * X_batch.size(0)\n",
        "\n",
        "        train_ls.append(running_loss / len(train_dataset))\n",
        "        if epoch % 10 == 0:\n",
        "            print(f\"Epoch: {epoch}: Train loss: {train_ls[-1]}\")\n",
        "\n",
        "        if val_labels is not None:\n",
        "            with torch.no_grad():\n",
        "                test_y_hat = net(val_features)\n",
        "                test_loss = criterion(test_y_hat, val_labels)\n",
        "                val_ls.append(test_loss)\n",
        "                if test_loss < min_test_ls:\n",
        "                    min_test_ls = test_loss\n",
        "                if epoch % 10 == 0:\n",
        "                    print(f\"Test loss: {val_ls[-1]}, Minimum test loss: {min_test_ls}\")\n",
        "        lr_scheduler.step()\n",
        "\n",
        "    return train_ls, val_ls"
      ],
      "execution_count": 19,
      "outputs": []
    },
    {
      "cell_type": "code",
      "metadata": {
        "id": "1UIhX6B6lUJ6"
      },
      "source": [
        "lr = 0.01\n",
        "batch_size = 32\n",
        "num_epochs = 250"
      ],
      "execution_count": 20,
      "outputs": []
    },
    {
      "cell_type": "code",
      "metadata": {
        "colab": {
          "base_uri": "https://localhost:8080/",
          "height": 1000
        },
        "id": "1InvV8DicMv5",
        "outputId": "49fa367b-8f17-4d9b-f21b-ad8c7ec6940f"
      },
      "source": [
        "kf = KFold(n_splits=5)\n",
        "kf.get_n_splits(X)\n",
        "fold_no = 1\n",
        "avg_val_ls = []\n",
        "for train_index, test_index, in kf.split(X):\n",
        "    X_train, X_test = X[train_index], X[test_index]\n",
        "    y_train, y_test = Y[train_index], Y[test_index]\n",
        "    network = MLP().cuda()\n",
        "    train_ls, val_ls = train(network, X_train, y_train, X_test, y_test, num_epochs, lr, batch_size)\n",
        "    avg_val_ls.append(val_ls[-1].item())\n",
        "\n",
        "    plt.title(f\"Fold {fold_no}\")\n",
        "    plt.plot(train_ls, label='Training Loss')\n",
        "    plt.plot(val_ls, label='Testing Loss')\n",
        "    plt.legend(loc='best', fontsize=10)\n",
        "    plt.show()\n",
        "    fold_no += 1\n",
        "nn_val_score_time = np.mean(avg_val_ls)"
      ],
      "execution_count": 21,
      "outputs": [
        {
          "output_type": "stream",
          "text": [
            "Epoch: 0: Train loss: 26469527.2234763\n",
            "Test loss: 26619370.0, Minimum test loss: 26619370.0\n",
            "Epoch: 10: Train loss: 26273109.69751693\n",
            "Test loss: 26376246.0, Minimum test loss: 26376246.0\n",
            "Epoch: 20: Train loss: 25708883.88713318\n",
            "Test loss: 25798292.0, Minimum test loss: 25798292.0\n",
            "Epoch: 30: Train loss: 24873540.334085777\n",
            "Test loss: 24950260.0, Minimum test loss: 24950260.0\n",
            "Epoch: 40: Train loss: 23881939.88261851\n",
            "Test loss: 23909218.0, Minimum test loss: 23909218.0\n",
            "Epoch: 50: Train loss: 22677329.64785553\n",
            "Test loss: 22679416.0, Minimum test loss: 22679416.0\n",
            "Epoch: 60: Train loss: 21259490.69074492\n",
            "Test loss: 21287736.0, Minimum test loss: 21287736.0\n",
            "Epoch: 70: Train loss: 19728844.38374718\n",
            "Test loss: 19697972.0, Minimum test loss: 19697972.0\n",
            "Epoch: 80: Train loss: 18013727.51693002\n",
            "Test loss: 17959812.0, Minimum test loss: 17959812.0\n",
            "Epoch: 90: Train loss: 16134683.91422122\n",
            "Test loss: 16030117.0, Minimum test loss: 16030117.0\n",
            "Epoch: 100: Train loss: 14229915.083521444\n",
            "Test loss: 14051465.0, Minimum test loss: 14051465.0\n",
            "Epoch: 110: Train loss: 12328560.031602709\n",
            "Test loss: 12058175.0, Minimum test loss: 12058175.0\n",
            "Epoch: 120: Train loss: 10395185.566591423\n",
            "Test loss: 9952345.0, Minimum test loss: 9952345.0\n",
            "Epoch: 130: Train loss: 8644774.82167043\n",
            "Test loss: 8341688.0, Minimum test loss: 8341688.0\n",
            "Epoch: 140: Train loss: 7353214.900677201\n",
            "Test loss: 6616465.0, Minimum test loss: 6616465.0\n",
            "Epoch: 150: Train loss: 6518517.126410835\n",
            "Test loss: 6015816.5, Minimum test loss: 5706226.5\n",
            "Epoch: 160: Train loss: 6007035.084650113\n",
            "Test loss: 5175328.5, Minimum test loss: 5139527.5\n",
            "Epoch: 170: Train loss: 5598817.603837471\n",
            "Test loss: 5048933.5, Minimum test loss: 4958330.0\n",
            "Epoch: 180: Train loss: 5461996.137697517\n",
            "Test loss: 4622744.0, Minimum test loss: 4617043.5\n",
            "Epoch: 190: Train loss: 5556310.190744921\n",
            "Test loss: 4635606.0, Minimum test loss: 4617043.5\n",
            "Epoch: 200: Train loss: 5067966.173814898\n",
            "Test loss: 4528917.0, Minimum test loss: 4528917.0\n",
            "Epoch: 210: Train loss: 4935171.621896163\n",
            "Test loss: 4414267.5, Minimum test loss: 4398751.0\n",
            "Epoch: 220: Train loss: 4961620.909706546\n",
            "Test loss: 4376308.0, Minimum test loss: 4376308.0\n",
            "Epoch: 230: Train loss: 4917771.072234763\n",
            "Test loss: 4323720.5, Minimum test loss: 4260844.0\n",
            "Epoch: 240: Train loss: 4944466.430022573\n",
            "Test loss: 4353955.5, Minimum test loss: 4260844.0\n"
          ],
          "name": "stdout"
        },
        {
          "output_type": "display_data",
          "data": {
            "image/png": "[encoded data removed]",
            "text/plain": [
              "<Figure size 432x288 with 1 Axes>"
            ]
          },
          "metadata": {
            "tags": [],
            "needs_background": "light"
          }
        },
        {
          "output_type": "stream",
          "text": [
            "Epoch: 0: Train loss: 26460128.024823695\n",
            "Test loss: 26619414.0, Minimum test loss: 26619414.0\n",
            "Epoch: 10: Train loss: 26235676.308039494\n",
            "Test loss: 26374922.0, Minimum test loss: 26374922.0\n",
            "Epoch: 20: Train loss: 25670652.462059237\n",
            "Test loss: 25791592.0, Minimum test loss: 25791592.0\n",
            "Epoch: 30: Train loss: 24879616.385331452\n",
            "Test loss: 24967366.0, Minimum test loss: 24967366.0\n",
            "Epoch: 40: Train loss: 23838402.82538787\n",
            "Test loss: 23907664.0, Minimum test loss: 23907664.0\n",
            "Epoch: 50: Train loss: 22621242.735119887\n",
            "Test loss: 22665106.0, Minimum test loss: 22665106.0\n",
            "Epoch: 60: Train loss: 21255799.933427364\n",
            "Test loss: 21250206.0, Minimum test loss: 21250206.0\n",
            "Epoch: 70: Train loss: 19725233.799153738\n",
            "Test loss: 19727634.0, Minimum test loss: 19727634.0\n",
            "Epoch: 80: Train loss: 18020214.797179125\n",
            "Test loss: 18025998.0, Minimum test loss: 18025998.0\n",
            "Epoch: 90: Train loss: 16122215.656981664\n",
            "Test loss: 16116744.0, Minimum test loss: 16116744.0\n",
            "Epoch: 100: Train loss: 14174390.623695346\n",
            "Test loss: 14062308.0, Minimum test loss: 14062308.0\n",
            "Epoch: 110: Train loss: 12230505.702115655\n",
            "Test loss: 12075551.0, Minimum test loss: 12075551.0\n",
            "Epoch: 120: Train loss: 10275020.007052187\n",
            "Test loss: 10090068.0, Minimum test loss: 10090068.0\n",
            "Epoch: 130: Train loss: 8639542.451198872\n",
            "Test loss: 8819258.0, Minimum test loss: 8591818.0\n",
            "Epoch: 140: Train loss: 7275690.410719323\n",
            "Test loss: 7193867.5, Minimum test loss: 7193867.5\n",
            "Epoch: 150: Train loss: 6461849.056558534\n",
            "Test loss: 6335800.5, Minimum test loss: 6283636.0\n",
            "Epoch: 160: Train loss: 5894720.599858956\n",
            "Test loss: 5847264.5, Minimum test loss: 5305599.5\n",
            "Epoch: 170: Train loss: 5610503.071932299\n",
            "Test loss: 5390700.0, Minimum test loss: 4973956.0\n",
            "Epoch: 180: Train loss: 5598199.04851904\n",
            "Test loss: 5025773.0, Minimum test loss: 4742009.0\n",
            "Epoch: 190: Train loss: 5356116.045698167\n",
            "Test loss: 4906747.0, Minimum test loss: 4742009.0\n",
            "Epoch: 200: Train loss: 5233112.5375176305\n",
            "Test loss: 4755001.5, Minimum test loss: 4652099.0\n",
            "Epoch: 210: Train loss: 4860887.232016926\n",
            "Test loss: 4518175.0, Minimum test loss: 4510011.5\n",
            "Epoch: 220: Train loss: 4959963.84167842\n",
            "Test loss: 4517368.0, Minimum test loss: 4489515.0\n",
            "Epoch: 230: Train loss: 4695449.691960508\n",
            "Test loss: 4429868.5, Minimum test loss: 4429868.5\n",
            "Epoch: 240: Train loss: 4655196.068617771\n",
            "Test loss: 4434462.5, Minimum test loss: 4357994.0\n"
          ],
          "name": "stdout"
        },
        {
          "output_type": "display_data",
          "data": {
            "image/png": "[encoded data removed]",
            "text/plain": [
              "<Figure size 432x288 with 1 Axes>"
            ]
          },
          "metadata": {
            "tags": [],
            "needs_background": "light"
          }
        },
        {
          "output_type": "stream",
          "text": [
            "Epoch: 0: Train loss: 26474194.460366715\n",
            "Test loss: 26619390.0, Minimum test loss: 26619390.0\n",
            "Epoch: 10: Train loss: 26245945.421720732\n",
            "Test loss: 26377326.0, Minimum test loss: 26377326.0\n",
            "Epoch: 20: Train loss: 25674534.594640337\n",
            "Test loss: 25802718.0, Minimum test loss: 25802718.0\n",
            "Epoch: 30: Train loss: 24881896.244851906\n",
            "Test loss: 24967548.0, Minimum test loss: 24967548.0\n",
            "Epoch: 40: Train loss: 23870028.02651622\n",
            "Test loss: 23934490.0, Minimum test loss: 23934490.0\n",
            "Epoch: 50: Train loss: 22665710.15345557\n",
            "Test loss: 22685414.0, Minimum test loss: 22685414.0\n",
            "Epoch: 60: Train loss: 21275810.156840622\n",
            "Test loss: 21278284.0, Minimum test loss: 21278284.0\n",
            "Epoch: 70: Train loss: 19736186.27306065\n",
            "Test loss: 19709580.0, Minimum test loss: 19709580.0\n",
            "Epoch: 80: Train loss: 18046704.471086036\n",
            "Test loss: 17974608.0, Minimum test loss: 17974608.0\n",
            "Epoch: 90: Train loss: 16170949.548660085\n",
            "Test loss: 16161690.0, Minimum test loss: 16161690.0\n",
            "Epoch: 100: Train loss: 14279122.41100141\n",
            "Test loss: 14234678.0, Minimum test loss: 14234678.0\n",
            "Epoch: 110: Train loss: 12304783.975458393\n",
            "Test loss: 12133792.0, Minimum test loss: 12133792.0\n",
            "Epoch: 120: Train loss: 10327971.448801128\n",
            "Test loss: 10040553.0, Minimum test loss: 10040553.0\n",
            "Epoch: 130: Train loss: 8649914.879830748\n",
            "Test loss: 8375357.5, Minimum test loss: 8375357.5\n",
            "Epoch: 140: Train loss: 7256291.175176305\n",
            "Test loss: 7101545.5, Minimum test loss: 7059980.5\n",
            "Epoch: 150: Train loss: 6844118.214386459\n",
            "Test loss: 6073246.0, Minimum test loss: 5975575.5\n",
            "Epoch: 160: Train loss: 6181829.196050776\n",
            "Test loss: 5347797.0, Minimum test loss: 5347797.0\n",
            "Epoch: 170: Train loss: 5825429.855007052\n",
            "Test loss: 4913637.5, Minimum test loss: 4913637.5\n",
            "Epoch: 180: Train loss: 5474874.146121298\n",
            "Test loss: 4964955.0, Minimum test loss: 4735927.5\n",
            "Epoch: 190: Train loss: 5555952.452750352\n",
            "Test loss: 5016573.5, Minimum test loss: 4735927.5\n",
            "Epoch: 200: Train loss: 5511610.279830747\n",
            "Test loss: 4860471.5, Minimum test loss: 4733493.0\n",
            "Epoch: 210: Train loss: 5084992.623554301\n",
            "Test loss: 4532775.0, Minimum test loss: 4507555.5\n",
            "Epoch: 220: Train loss: 5168171.498730606\n",
            "Test loss: 4418960.5, Minimum test loss: 4378653.0\n",
            "Epoch: 230: Train loss: 4865114.660084627\n",
            "Test loss: 4303356.0, Minimum test loss: 4303356.0\n",
            "Epoch: 240: Train loss: 5175427.090550071\n",
            "Test loss: 4298678.5, Minimum test loss: 4298678.5\n"
          ],
          "name": "stdout"
        },
        {
          "output_type": "display_data",
          "data": {
            "image/png": "[encoded data removed]",
            "text/plain": [
              "<Figure size 432x288 with 1 Axes>"
            ]
          },
          "metadata": {
            "tags": [],
            "needs_background": "light"
          }
        },
        {
          "output_type": "stream",
          "text": [
            "Epoch: 0: Train loss: 26496151.410437234\n",
            "Test loss: 26619388.0, Minimum test loss: 26619388.0\n",
            "Epoch: 10: Train loss: 26231303.25528914\n",
            "Test loss: 26376578.0, Minimum test loss: 26376578.0\n",
            "Epoch: 20: Train loss: 25707447.5954866\n",
            "Test loss: 25790418.0, Minimum test loss: 25790418.0\n",
            "Epoch: 30: Train loss: 24906204.78307475\n",
            "Test loss: 24974736.0, Minimum test loss: 24974736.0\n",
            "Epoch: 40: Train loss: 23868536.778561354\n",
            "Test loss: 23911100.0, Minimum test loss: 23911100.0\n",
            "Epoch: 50: Train loss: 22642495.241748944\n",
            "Test loss: 22669998.0, Minimum test loss: 22669998.0\n",
            "Epoch: 60: Train loss: 21273675.963892806\n",
            "Test loss: 21249346.0, Minimum test loss: 21249346.0\n",
            "Epoch: 70: Train loss: 19755060.272496473\n",
            "Test loss: 19690272.0, Minimum test loss: 19690272.0\n",
            "Epoch: 80: Train loss: 18033801.412693936\n",
            "Test loss: 17952834.0, Minimum test loss: 17952834.0\n",
            "Epoch: 90: Train loss: 16216630.745275036\n",
            "Test loss: 16026488.0, Minimum test loss: 16026488.0\n",
            "Epoch: 100: Train loss: 14274041.391819464\n",
            "Test loss: 14129706.0, Minimum test loss: 14129706.0\n",
            "Epoch: 110: Train loss: 12395585.040620591\n",
            "Test loss: 12025655.0, Minimum test loss: 12025655.0\n",
            "Epoch: 120: Train loss: 10426849.52157969\n",
            "Test loss: 9967086.0, Minimum test loss: 9967086.0\n",
            "Epoch: 130: Train loss: 8749031.954301834\n",
            "Test loss: 7999160.5, Minimum test loss: 7999160.5\n",
            "Epoch: 140: Train loss: 7387445.338928068\n",
            "Test loss: 6635501.5, Minimum test loss: 6635501.5\n",
            "Epoch: 150: Train loss: 6563997.801833568\n",
            "Test loss: 5683819.0, Minimum test loss: 5546112.0\n",
            "Epoch: 160: Train loss: 6015218.795345557\n",
            "Test loss: 5296929.0, Minimum test loss: 5201662.0\n",
            "Epoch: 170: Train loss: 5781511.712976023\n",
            "Test loss: 4987693.5, Minimum test loss: 4877111.5\n",
            "Epoch: 180: Train loss: 5492456.111706629\n",
            "Test loss: 5036994.5, Minimum test loss: 4661813.5\n",
            "Epoch: 190: Train loss: 5677777.790832158\n",
            "Test loss: 4649466.5, Minimum test loss: 4411487.5\n",
            "Epoch: 200: Train loss: 5205128.722284908\n",
            "Test loss: 4390264.5, Minimum test loss: 4359835.5\n",
            "Epoch: 210: Train loss: 5127159.442313117\n",
            "Test loss: 4369358.5, Minimum test loss: 4312169.0\n",
            "Epoch: 220: Train loss: 4849666.230253879\n",
            "Test loss: 4393283.0, Minimum test loss: 4312169.0\n",
            "Epoch: 230: Train loss: 4877665.071086037\n",
            "Test loss: 4301571.0, Minimum test loss: 4301571.0\n",
            "Epoch: 240: Train loss: 5030251.295627644\n",
            "Test loss: 4360525.0, Minimum test loss: 4261214.5\n"
          ],
          "name": "stdout"
        },
        {
          "output_type": "display_data",
          "data": {
            "image/png": "[encoded data removed]",
            "text/plain": [
              "<Figure size 432x288 with 1 Axes>"
            ]
          },
          "metadata": {
            "tags": [],
            "needs_background": "light"
          }
        },
        {
          "output_type": "stream",
          "text": [
            "Epoch: 0: Train loss: 26306216.97771509\n",
            "Test loss: 26619324.0, Minimum test loss: 26619324.0\n",
            "Epoch: 10: Train loss: 26091061.61748942\n",
            "Test loss: 26378736.0, Minimum test loss: 26378736.0\n",
            "Epoch: 20: Train loss: 25549065.89506347\n",
            "Test loss: 25800452.0, Minimum test loss: 25800452.0\n",
            "Epoch: 30: Train loss: 24719394.29732017\n",
            "Test loss: 24984544.0, Minimum test loss: 24984544.0\n",
            "Epoch: 40: Train loss: 23685012.43667137\n",
            "Test loss: 23935354.0, Minimum test loss: 23935354.0\n",
            "Epoch: 50: Train loss: 22491744.6674189\n",
            "Test loss: 22691448.0, Minimum test loss: 22691448.0\n",
            "Epoch: 60: Train loss: 21099570.108603667\n",
            "Test loss: 21285798.0, Minimum test loss: 21285798.0\n",
            "Epoch: 70: Train loss: 19540044.299576867\n",
            "Test loss: 19725204.0, Minimum test loss: 19725204.0\n",
            "Epoch: 80: Train loss: 17877021.492242597\n",
            "Test loss: 18056238.0, Minimum test loss: 18056238.0\n",
            "Epoch: 90: Train loss: 16030821.429337094\n",
            "Test loss: 16158468.0, Minimum test loss: 16158468.0\n",
            "Epoch: 100: Train loss: 14133446.921861777\n",
            "Test loss: 14161438.0, Minimum test loss: 14161438.0\n",
            "Epoch: 110: Train loss: 12211281.108885754\n",
            "Test loss: 12211497.0, Minimum test loss: 12211497.0\n",
            "Epoch: 120: Train loss: 10207054.852468265\n",
            "Test loss: 10126051.0, Minimum test loss: 10126051.0\n",
            "Epoch: 130: Train loss: 8577952.280959098\n",
            "Test loss: 8283176.0, Minimum test loss: 8283176.0\n",
            "Epoch: 140: Train loss: 7366858.848236954\n",
            "Test loss: 6884403.5, Minimum test loss: 6884403.5\n",
            "Epoch: 150: Train loss: 6516360.830253879\n",
            "Test loss: 6225777.0, Minimum test loss: 6225777.0\n",
            "Epoch: 160: Train loss: 5763080.3021156555\n",
            "Test loss: 5941328.0, Minimum test loss: 5470294.5\n",
            "Epoch: 170: Train loss: 5735971.534696756\n",
            "Test loss: 5675582.0, Minimum test loss: 5012816.0\n",
            "Epoch: 180: Train loss: 5279552.6137517635\n",
            "Test loss: 5318799.0, Minimum test loss: 5012816.0\n",
            "Epoch: 190: Train loss: 5381517.425811001\n",
            "Test loss: 5251146.5, Minimum test loss: 5012816.0\n",
            "Epoch: 200: Train loss: 5370475.415937941\n",
            "Test loss: 5010995.5, Minimum test loss: 5002477.0\n",
            "Epoch: 210: Train loss: 4823486.630606488\n",
            "Test loss: 4777466.5, Minimum test loss: 4741009.0\n",
            "Epoch: 220: Train loss: 4631697.699365303\n",
            "Test loss: 4707165.5, Minimum test loss: 4707165.5\n",
            "Epoch: 230: Train loss: 4875868.835119887\n",
            "Test loss: 4762923.5, Minimum test loss: 4707165.5\n",
            "Epoch: 240: Train loss: 4456065.105359661\n",
            "Test loss: 4736358.5, Minimum test loss: 4707165.5\n"
          ],
          "name": "stdout"
        },
        {
          "output_type": "display_data",
          "data": {
            "image/png": "[encoded data removed]",
            "text/plain": [
              "<Figure size 432x288 with 1 Axes>"
            ]
          },
          "metadata": {
            "tags": [],
            "needs_background": "light"
          }
        }
      ]
    },
    {
      "cell_type": "code",
      "metadata": {
        "colab": {
          "base_uri": "https://localhost:8080/"
        },
        "id": "GjL0uWgbhvU_",
        "outputId": "4f79c203-1805-46bb-d46b-9de7a57bed6a"
      },
      "source": [
        "network = MLP().cuda()\n",
        "train_ls, val_ls = train(network, X, Y, None, None, num_epochs, lr, batch_size)"
      ],
      "execution_count": 22,
      "outputs": [
        {
          "output_type": "stream",
          "text": [
            "Epoch: 0: Train loss: 26437409.178063642\n",
            "Epoch: 10: Train loss: 26094271.568946064\n",
            "Epoch: 20: Train loss: 25277473.55269691\n",
            "Epoch: 30: Train loss: 24095245.193861432\n",
            "Epoch: 40: Train loss: 22583882.629203342\n",
            "Epoch: 50: Train loss: 20845851.817648385\n",
            "Epoch: 60: Train loss: 18853912.917400137\n",
            "Epoch: 70: Train loss: 16584508.49921011\n",
            "Epoch: 80: Train loss: 14176552.064093884\n",
            "Epoch: 90: Train loss: 11784445.338749718\n",
            "Epoch: 100: Train loss: 9638317.220943354\n",
            "Epoch: 110: Train loss: 7758553.634619725\n",
            "Epoch: 120: Train loss: 6638262.988715866\n",
            "Epoch: 130: Train loss: 6002099.660347551\n",
            "Epoch: 140: Train loss: 5687787.0690589035\n",
            "Epoch: 150: Train loss: 5745216.012638231\n",
            "Epoch: 160: Train loss: 5519376.417061611\n",
            "Epoch: 170: Train loss: 5399714.532836831\n",
            "Epoch: 180: Train loss: 5207657.5379146915\n",
            "Epoch: 190: Train loss: 5257765.897540059\n",
            "Epoch: 200: Train loss: 4946849.063191153\n",
            "Epoch: 210: Train loss: 4887625.053373956\n",
            "Epoch: 220: Train loss: 4671073.873392011\n",
            "Epoch: 230: Train loss: 4651873.9247348225\n",
            "Epoch: 240: Train loss: 4644974.941548184\n"
          ],
          "name": "stdout"
        }
      ]
    },
    {
      "cell_type": "code",
      "metadata": {
        "id": "BPMv3BQN4YGL"
      },
      "source": [
        "with torch.no_grad():\n",
        "    preds = network(torch.from_numpy(test_x).float().cuda()).cpu()\n",
        "    preds = pd.Series(preds.reshape(1, -1)[0], name='time_to_eruption')\n",
        "    ids = pd.Series(test_ids, name='segment_id')\n",
        "    submission = pd.concat([ids, preds], axis=1)\n",
        "    submission.to_csv('nn_time.csv', index=False)"
      ],
      "execution_count": 23,
      "outputs": []
    },
    {
      "cell_type": "markdown",
      "metadata": {
        "id": "snVFo7CF61XA"
      },
      "source": [
        "## Frequency Domain Feature Extraction"
      ]
    },
    {
      "cell_type": "markdown",
      "metadata": {
        "id": "CV6N-qV9Av9w"
      },
      "source": [
        "This method was inpsired by the following notebook: https://www.kaggle.com/amanooo/ingv-volcanic-basic-solution-stft/notebook\n",
        "\n",
        "The idea is to take the STFT (Short Time Fourier Transform) of each signal. From there we extract the following features\n",
        "\n",
        "\n",
        "*   Sum of frequencies that are over 10 HZ\n",
        "*   Sum of frequences that are between 5-8 HZ\n",
        "*   Sum of frequencies that are between 1.5-2.5 HZ\n",
        "*   Sum of frequencies between 0.5-1.2 HZ\n",
        "*   Sum of frequencies between 2-4 HZ\n",
        "\n",
        "\n",
        "\n"
      ]
    },
    {
      "cell_type": "code",
      "metadata": {
        "id": "3iid03FE7UC0"
      },
      "source": [
        "# Total sampling time\n",
        "t_n = 600\n",
        "\n",
        "# Total number of data points\n",
        "N = 60001\n",
        "\n",
        "# Time between data points\n",
        "T = t_n / N\n",
        "\n",
        "# Sampling frequency\n",
        "f_s = 1 / T\n",
        "\n",
        "npserseg = 64\n",
        "max_f = 20 # 20hz\n",
        "delta_f = f_s / npserseg\n",
        "delta_t = npserseg / f_s / 2"
      ],
      "execution_count": 24,
      "outputs": []
    },
    {
      "cell_type": "code",
      "metadata": {
        "colab": {
          "base_uri": "https://localhost:8080/",
          "height": 282
        },
        "id": "A6V7RUex7cgm",
        "outputId": "ffa4e988-a3ed-45d1-a272-95d49d6886fe"
      },
      "source": [
        "example_file = pd.read_csv(training_segments[0]).fillna(0)\n",
        "\n",
        "x = example_file['sensor_4'].values\n",
        "f, t, Z = scipy.signal.stft(x, fs=f_s, window='hann', nperseg=npserseg)\n",
        "Z = np.abs(Z)\n",
        "plt.pcolormesh(t, f, Z, vmin=0, vmax=Z.mean() * 10)\n",
        "plt.ylim(0, 20)\n",
        "plt.ylabel('Frequency [HZ]')\n",
        "plt.xlabel('Time (s)')\n",
        "plt.show()"
      ],
      "execution_count": 25,
      "outputs": [
        {
          "output_type": "display_data",
          "data": {
            "image/png": "[encoded data removed]",
            "text/plain": [
              "<Figure size 432x288 with 1 Axes>"
            ]
          },
          "metadata": {
            "tags": [],
            "needs_background": "light"
          }
        }
      ]
    },
    {
      "cell_type": "markdown",
      "metadata": {
        "id": "ggiPj4sajF9R"
      },
      "source": [
        "### Load frequency domain features from each signal"
      ]
    },
    {
      "cell_type": "code",
      "metadata": {
        "id": "ilsz4A4f8Ry1"
      },
      "source": [
        "def get_stft_features(csv_files, label_file=None):\n",
        "    list_of_features = []\n",
        "    list_of_labels = []\n",
        "    ids = []\n",
        "\n",
        "    for csv_no, csv_file in enumerate(csv_files):\n",
        "        if csv_no % 500 == 0:\n",
        "            print(f\"loaded: {csv_no} files\")\n",
        "        df = pd.read_csv(csv_file)\n",
        "        unique_id = os.path.basename(csv_file).split('.')[0]\n",
        "        ids.append(unique_id)\n",
        "        if label_file is not None:\n",
        "            time_to_eruption = label_file.loc[unique_id].time_to_eruption\n",
        "            list_of_labels.append(time_to_eruption)\n",
        "\n",
        "        features = []\n",
        "        for sensor in df.columns:\n",
        "            x = df[sensor][:]\n",
        "            # Can't extract useful info from sensors that have mostly nan\n",
        "            if x.isna().sum() > 1000:\n",
        "                features.extend([0] * 10)\n",
        "            else:\n",
        "                x.fillna(0, inplace=True)\n",
        "                f, t, Z = scipy.signal.stft(x, fs=f_s, window='hann', nperseg=npserseg)\n",
        "\n",
        "                # Rows represent time, Columns represent frequency\n",
        "                Z = np.abs(Z[:round(max_f/delta_f)+1]).T\n",
        "\n",
        "                th = Z.mean()\n",
        "                Z_pow = Z.copy()\n",
        "                Z_pow[Z < th] = 0\n",
        "                Z_num = Z_pow.copy()\n",
        "                Z_num[Z >= th] = 1\n",
        "\n",
        "                Z_pow_sum = Z_pow.sum(axis = 0)\n",
        "                Z_num_sum = Z_num.sum(axis = 0)\n",
        "\n",
        "                # Get sum of frequencies above 10 HZ\n",
        "                features.append(Z_pow_sum[round(10/delta_f):].sum())\n",
        "                features.append(Z_num_sum[round(10/delta_f):].sum())\n",
        "\n",
        "                # Get sum of frequencies between 5-8 HZ\n",
        "                features.append(Z_pow_sum[round(5/delta_f):round(8/delta_f)].sum())\n",
        "                features.append(Z_num_sum[round(5/delta_f):round(8/delta_f)].sum())\n",
        "\n",
        "                # Get sum of frequencies between 1.5-2.5 HZ\n",
        "                features.append(Z_pow_sum[round(1.5/delta_f):round(2.5/delta_f)].sum())\n",
        "                features.append(Z_num_sum[round(1.5/delta_f):round(2.5/delta_f)].sum())\n",
        "\n",
        "                # Get sum of frequencies between 0.6-1.2 HZ\n",
        "                features.append(Z_pow_sum[round(0.6/delta_f):round(1.2/delta_f)].sum())\n",
        "                features.append(Z_num_sum[round(0.6/delta_f):round(1.2/delta_f)].sum())\n",
        "\n",
        "                # Get sum of frequencies between 2-4 HZ\n",
        "                features.append(Z_pow_sum[round(2/delta_f):round(4/delta_f)].sum())\n",
        "                features.append(Z_num_sum[round(2/delta_f):round(4/delta_f)].sum())\n",
        "        list_of_features.append(features)\n",
        "    return np.array(list_of_features), np.array(list_of_labels), np.array(ids)"
      ],
      "execution_count": 26,
      "outputs": []
    },
    {
      "cell_type": "code",
      "metadata": {
        "colab": {
          "base_uri": "https://localhost:8080/"
        },
        "id": "1r0DGw2AFi2j",
        "outputId": "f0e20d5c-d59e-409c-991b-bbc7d8a8e08f"
      },
      "source": [
        "X, Y, train_ids = get_stft_features(training_segments, training_labels)\n",
        "Y = Y.reshape((-1, 1))\n",
        "pd.DataFrame(X).to_csv('training_features_stft.csv', index=False)\n",
        "pd.DataFrame(Y).to_csv('training_labels_stft.csv', index=False)\n",
        "\n",
        "test_x, _, test_ids = get_stft_features(testing_segments)\n",
        "pd.DataFrame(test_x).to_csv('testing_features_stft.csv', index=False)\n",
        "pd.DataFrame(test_ids).to_csv('test_ids_stft.csv', index=False)\n",
        "\n",
        "print(X.shape, Y.shape)\n",
        "print(test_x.shape)"
      ],
      "execution_count": 27,
      "outputs": [
        {
          "output_type": "stream",
          "text": [
            "loaded: 0 files\n",
            "loaded: 500 files\n",
            "loaded: 1000 files\n",
            "loaded: 1500 files\n",
            "loaded: 2000 files\n",
            "loaded: 2500 files\n",
            "loaded: 3000 files\n",
            "loaded: 3500 files\n",
            "loaded: 4000 files\n",
            "loaded: 0 files\n",
            "loaded: 500 files\n",
            "loaded: 1000 files\n",
            "loaded: 1500 files\n",
            "loaded: 2000 files\n",
            "loaded: 2500 files\n",
            "loaded: 3000 files\n",
            "loaded: 3500 files\n",
            "loaded: 4000 files\n",
            "loaded: 4500 files\n",
            "(4431, 100) (4431, 1)\n",
            "(4520, 100)\n"
          ],
          "name": "stdout"
        }
      ]
    },
    {
      "cell_type": "code",
      "metadata": {
        "id": "oYgOT4EATtkK",
        "colab": {
          "base_uri": "https://localhost:8080/"
        },
        "outputId": "054f2601-11c6-4e0d-940c-a75411bafc17"
      },
      "source": [
        "train_x, val_x, train_y, val_y = train_test_split(X, Y, test_size=0.2)\n",
        "print(train_x.shape, train_y.shape)\n",
        "print(val_x.shape, val_y.shape)"
      ],
      "execution_count": 28,
      "outputs": [
        {
          "output_type": "stream",
          "text": [
            "(3544, 100) (3544, 1)\n",
            "(887, 100) (887, 1)\n"
          ],
          "name": "stdout"
        }
      ]
    },
    {
      "cell_type": "markdown",
      "metadata": {
        "id": "7dyruOGfjjtq"
      },
      "source": [
        "### Linear Regression Baseline"
      ]
    },
    {
      "cell_type": "code",
      "metadata": {
        "id": "jhNAFWHejl7Q"
      },
      "source": [
        "reg_stft = LinearRegression()\n",
        "reg_stft.fit(train_x, train_y)\n",
        "train_pred = reg_stft.predict(train_x)\n",
        "val_pred = reg_stft.predict(val_x)\n",
        "lin_train_score_stft = np.sqrt(metrics.mean_squared_error(train_y, train_pred))\n",
        "lin_val_score_stft = np.sqrt(metrics.mean_squared_error(val_y, val_pred))"
      ],
      "execution_count": 29,
      "outputs": []
    },
    {
      "cell_type": "code",
      "metadata": {
        "id": "iIB8sIprj0gz",
        "colab": {
          "base_uri": "https://localhost:8080/"
        },
        "outputId": "16e36dc2-8fbe-4bca-c771-1d6f53d609fc"
      },
      "source": [
        "print(f'Root Mean Squared Error Train: {lin_train_score_stft}')\n",
        "print(f'Root Mean Squared Error Validation: {lin_val_score_stft}')"
      ],
      "execution_count": 30,
      "outputs": [
        {
          "output_type": "stream",
          "text": [
            "Root Mean Squared Error Train: 9133932.756132472\n",
            "Root Mean Squared Error Validation: 9986394.436401863\n"
          ],
          "name": "stdout"
        }
      ]
    },
    {
      "cell_type": "markdown",
      "metadata": {
        "id": "T-8stkAIj3Er"
      },
      "source": [
        "### Decision Tree"
      ]
    },
    {
      "cell_type": "code",
      "metadata": {
        "id": "SYTEoZPmj9Ej"
      },
      "source": [
        "dec_stft = DecisionTreeRegressor()\n",
        "dec_stft.fit(train_x, train_y.ravel())\n",
        "train_pred = dec_stft.predict(train_x)\n",
        "val_pred = dec_stft.predict(val_x)\n",
        "dt_train_score_stft = np.sqrt(metrics.mean_squared_error(train_y, train_pred))\n",
        "dt_val_score_stft = np.sqrt(metrics.mean_squared_error(val_y, val_pred))"
      ],
      "execution_count": 31,
      "outputs": []
    },
    {
      "cell_type": "code",
      "metadata": {
        "id": "F3SxqLjikD9L",
        "colab": {
          "base_uri": "https://localhost:8080/"
        },
        "outputId": "921b47ce-3ed1-4cea-bb54-e74fbddbaaca"
      },
      "source": [
        "print(f'Root Mean Squared Error Train: {dt_train_score_stft}')\n",
        "print(f'Root Mean Squared Error Validation: {dt_val_score_stft}')"
      ],
      "execution_count": 32,
      "outputs": [
        {
          "output_type": "stream",
          "text": [
            "Root Mean Squared Error Train: 0.0\n",
            "Root Mean Squared Error Validation: 7769079.72694672\n"
          ],
          "name": "stdout"
        }
      ]
    },
    {
      "cell_type": "markdown",
      "metadata": {
        "id": "1V7GklYikGXC"
      },
      "source": [
        "### Random Forest"
      ]
    },
    {
      "cell_type": "code",
      "metadata": {
        "id": "kFHi5PSukJGk"
      },
      "source": [
        "rf_stft = RandomForestRegressor(n_estimators=100)\n",
        "rf_stft.fit(train_x, train_y.ravel())\n",
        "train_pred = rf_stft.predict(train_x)\n",
        "test_pred = rf_stft.predict(test_x)\n",
        "val_pred = rf_stft.predict(val_x)\n",
        "rf_train_score_stft = np.sqrt(metrics.mean_squared_error(train_y, train_pred))\n",
        "rf_val_score_stft = np.sqrt(metrics.mean_squared_error(val_y, val_pred))"
      ],
      "execution_count": 33,
      "outputs": []
    },
    {
      "cell_type": "code",
      "metadata": {
        "id": "vEPTXJN-kWbb",
        "colab": {
          "base_uri": "https://localhost:8080/"
        },
        "outputId": "de547902-1982-496d-86cc-f3670e8a922a"
      },
      "source": [
        "print('Root Mean Squared Error Train:', np.sqrt(metrics.mean_squared_error(train_y, train_pred)))\n",
        "print('Root Mean Squared Error Validation:', np.sqrt(metrics.mean_squared_error(val_y, val_pred)))"
      ],
      "execution_count": 34,
      "outputs": [
        {
          "output_type": "stream",
          "text": [
            "Root Mean Squared Error Train: 1666703.6931764493\n",
            "Root Mean Squared Error Validation: 4398938.783061467\n"
          ],
          "name": "stdout"
        }
      ]
    },
    {
      "cell_type": "code",
      "metadata": {
        "id": "117G8Ce7kdyL"
      },
      "source": [
        "prediction = pd.concat([pd.DataFrame(test_ids), pd.DataFrame(test_pred)], axis=1)\n",
        "prediction.to_csv(\"rf_stft.csv\", index=False, header=['segment_id', 'time_to_eruption'])"
      ],
      "execution_count": 35,
      "outputs": []
    },
    {
      "cell_type": "markdown",
      "metadata": {
        "id": "8QykcsKxjWlE"
      },
      "source": [
        "### Deep Neural Network"
      ]
    },
    {
      "cell_type": "code",
      "metadata": {
        "id": "Fo8XNoDMFqoe"
      },
      "source": [
        "class MLP2(nn.Module):\n",
        "    def __init__(self):\n",
        "        super().__init__()\n",
        "        self.network = nn.Sequential(\n",
        "            nn.BatchNorm1d(100),\n",
        "            nn.Linear(100, 1024),\n",
        "            nn.BatchNorm1d(1024),\n",
        "            nn.ReLU(),\n",
        "            nn.Linear(1024, 1024),\n",
        "            nn.BatchNorm1d(1024),\n",
        "            nn.ReLU(),\n",
        "            nn.Linear(1024, 1024),\n",
        "            nn.BatchNorm1d(1024),\n",
        "            nn.ReLU(),\n",
        "            nn.Dropout(0.2),\n",
        "            nn.Linear(1024, 1024),\n",
        "            nn.BatchNorm1d(1024),\n",
        "            nn.ReLU(),\n",
        "            nn.Dropout(0.2),\n",
        "            nn.Linear(1024, 1024),\n",
        "            nn.BatchNorm1d(1024),\n",
        "            nn.ReLU(),\n",
        "            nn.Dropout(0.5),\n",
        "            nn.Linear(1024, 1),\n",
        "        )\n",
        "\n",
        "    def forward(self, xb):\n",
        "        xb = self.network(xb)\n",
        "        return xb"
      ],
      "execution_count": 36,
      "outputs": []
    },
    {
      "cell_type": "code",
      "metadata": {
        "id": "ems2cqvoTkk9"
      },
      "source": [
        "lr = 0.005\n",
        "batch_size = 32\n",
        "num_epochs = 500\n",
        "lr_step = 500"
      ],
      "execution_count": 37,
      "outputs": []
    },
    {
      "cell_type": "code",
      "metadata": {
        "id": "BIOO-0kvmTLQ",
        "colab": {
          "base_uri": "https://localhost:8080/",
          "height": 1000
        },
        "outputId": "58709f8b-78b0-4799-f482-d368acf43ed3"
      },
      "source": [
        "kf = KFold(n_splits=5)\n",
        "kf.get_n_splits(X)\n",
        "fold_no = 1\n",
        "avg_val_ls = []\n",
        "for train_index, test_index, in kf.split(X):\n",
        "    X_train, X_test = X[train_index], X[test_index]\n",
        "    y_train, y_test = Y[train_index], Y[test_index]\n",
        "    network = MLP2().cuda()\n",
        "    train_ls, val_ls = train(network, X_train, y_train, X_test, y_test, num_epochs, lr, batch_size, lr_step)\n",
        "    avg_val_ls.append(val_ls[-1].item())\n",
        "\n",
        "    plt.title(f\"Fold {fold_no}\")\n",
        "    plt.plot(train_ls, label='Training Loss')\n",
        "    plt.plot(val_ls, label='Testing Loss')\n",
        "    plt.legend(loc='best', fontsize=10)\n",
        "    plt.show()\n",
        "    fold_no += 1\n",
        "nn_val_score_stft = np.mean(avg_val_ls)"
      ],
      "execution_count": 38,
      "outputs": [
        {
          "output_type": "stream",
          "text": [
            "Epoch: 0: Train loss: 26490833.661399547\n",
            "Test loss: 26496006.0, Minimum test loss: 26496006.0\n",
            "Epoch: 10: Train loss: 26376334.126410834\n",
            "Test loss: 26376464.0, Minimum test loss: 26376464.0\n",
            "Epoch: 20: Train loss: 26100492.496613994\n",
            "Test loss: 26097902.0, Minimum test loss: 26097902.0\n",
            "Epoch: 30: Train loss: 25713076.677200902\n",
            "Test loss: 25696410.0, Minimum test loss: 25696410.0\n",
            "Epoch: 40: Train loss: 25222731.15575621\n",
            "Test loss: 25190286.0, Minimum test loss: 25190286.0\n",
            "Epoch: 50: Train loss: 24614980.076749437\n",
            "Test loss: 24593416.0, Minimum test loss: 24593416.0\n",
            "Epoch: 60: Train loss: 23920981.8013544\n",
            "Test loss: 23901404.0, Minimum test loss: 23901404.0\n",
            "Epoch: 70: Train loss: 23157919.237020317\n",
            "Test loss: 23137724.0, Minimum test loss: 23137724.0\n",
            "Epoch: 80: Train loss: 22296150.23476298\n",
            "Test loss: 22256840.0, Minimum test loss: 22256840.0\n",
            "Epoch: 90: Train loss: 21364156.50564334\n",
            "Test loss: 21305610.0, Minimum test loss: 21305610.0\n",
            "Epoch: 100: Train loss: 20322437.304740407\n",
            "Test loss: 20303906.0, Minimum test loss: 20303906.0\n",
            "Epoch: 110: Train loss: 19219378.69074492\n",
            "Test loss: 19172958.0, Minimum test loss: 19172958.0\n",
            "Epoch: 120: Train loss: 18027645.31376975\n",
            "Test loss: 17962566.0, Minimum test loss: 17962566.0\n",
            "Epoch: 130: Train loss: 16766745.34537246\n",
            "Test loss: 16705406.0, Minimum test loss: 16705406.0\n",
            "Epoch: 140: Train loss: 15436065.047404064\n",
            "Test loss: 15379384.0, Minimum test loss: 15379384.0\n",
            "Epoch: 150: Train loss: 14018471.83972912\n",
            "Test loss: 13914709.0, Minimum test loss: 13914709.0\n",
            "Epoch: 160: Train loss: 12542251.32054176\n",
            "Test loss: 12463391.0, Minimum test loss: 12463391.0\n",
            "Epoch: 170: Train loss: 11037170.846501129\n",
            "Test loss: 10965032.0, Minimum test loss: 10965032.0\n",
            "Epoch: 180: Train loss: 9557327.296839729\n",
            "Test loss: 9371625.0, Minimum test loss: 9371625.0\n",
            "Epoch: 190: Train loss: 7907134.288939052\n",
            "Test loss: 7710041.5, Minimum test loss: 7710041.5\n",
            "Epoch: 200: Train loss: 6465271.297968397\n",
            "Test loss: 6237800.0, Minimum test loss: 6237800.0\n",
            "Epoch: 210: Train loss: 5075351.847629797\n",
            "Test loss: 4887302.5, Minimum test loss: 4887302.5\n",
            "Epoch: 220: Train loss: 4129706.103837472\n",
            "Test loss: 3694495.0, Minimum test loss: 3694495.0\n",
            "Epoch: 230: Train loss: 3737530.862866817\n",
            "Test loss: 3373336.75, Minimum test loss: 3034651.0\n",
            "Epoch: 240: Train loss: 3549167.998871332\n",
            "Test loss: 2783841.25, Minimum test loss: 2783841.25\n",
            "Epoch: 250: Train loss: 3200107.4119638824\n",
            "Test loss: 2732028.5, Minimum test loss: 2489051.5\n",
            "Epoch: 260: Train loss: 2851343.967268623\n",
            "Test loss: 2522374.25, Minimum test loss: 2283607.0\n",
            "Epoch: 270: Train loss: 2796111.599887133\n",
            "Test loss: 2284942.25, Minimum test loss: 2142880.0\n",
            "Epoch: 280: Train loss: 2805800.908295711\n",
            "Test loss: 2144098.5, Minimum test loss: 2091155.125\n",
            "Epoch: 290: Train loss: 2601049.3439616254\n",
            "Test loss: 2368993.75, Minimum test loss: 2027924.75\n",
            "Epoch: 300: Train loss: 2806559.9266365687\n",
            "Test loss: 2247394.75, Minimum test loss: 2027924.75\n",
            "Epoch: 310: Train loss: 2622621.050225734\n",
            "Test loss: 2175241.0, Minimum test loss: 2007691.75\n",
            "Epoch: 320: Train loss: 2634004.2144469526\n",
            "Test loss: 2016873.0, Minimum test loss: 1973965.0\n",
            "Epoch: 330: Train loss: 2527338.9556997744\n",
            "Test loss: 2410011.25, Minimum test loss: 1971229.375\n",
            "Epoch: 340: Train loss: 2443189.1676072236\n",
            "Test loss: 1894894.375, Minimum test loss: 1894894.375\n",
            "Epoch: 350: Train loss: 2514664.2816027086\n",
            "Test loss: 2044309.875, Minimum test loss: 1894894.375\n",
            "Epoch: 360: Train loss: 2458738.175507901\n",
            "Test loss: 1924995.875, Minimum test loss: 1894894.375\n",
            "Epoch: 370: Train loss: 2311102.163092551\n",
            "Test loss: 2049523.125, Minimum test loss: 1893906.375\n",
            "Epoch: 380: Train loss: 2531739.827878104\n",
            "Test loss: 2077924.375, Minimum test loss: 1893906.375\n",
            "Epoch: 390: Train loss: 2407870.853837472\n",
            "Test loss: 2254923.0, Minimum test loss: 1893906.375\n",
            "Epoch: 400: Train loss: 2374903.8273137696\n",
            "Test loss: 2216444.0, Minimum test loss: 1851081.125\n",
            "Epoch: 410: Train loss: 2241401.5609480813\n",
            "Test loss: 1964857.5, Minimum test loss: 1851081.125\n",
            "Epoch: 420: Train loss: 2296968.1218961626\n",
            "Test loss: 1953148.0, Minimum test loss: 1851081.125\n",
            "Epoch: 430: Train loss: 2186906.9029345373\n",
            "Test loss: 1947184.25, Minimum test loss: 1757005.375\n",
            "Epoch: 440: Train loss: 2197261.4390519187\n",
            "Test loss: 2084573.75, Minimum test loss: 1748550.375\n",
            "Epoch: 450: Train loss: 2368533.663656885\n",
            "Test loss: 2144250.75, Minimum test loss: 1748550.375\n",
            "Epoch: 460: Train loss: 2108523.6851015803\n",
            "Test loss: 1952149.75, Minimum test loss: 1748550.375\n",
            "Epoch: 470: Train loss: 2082123.6139954852\n",
            "Test loss: 1915756.625, Minimum test loss: 1748550.375\n",
            "Epoch: 480: Train loss: 2373498.3843115126\n",
            "Test loss: 2077036.125, Minimum test loss: 1748550.375\n",
            "Epoch: 490: Train loss: 2088458.0612302483\n",
            "Test loss: 2013250.125, Minimum test loss: 1748550.375\n"
          ],
          "name": "stdout"
        },
        {
          "output_type": "display_data",
          "data": {
            "image/png": "[encoded data removed]",
            "text/plain": [
              "<Figure size 432x288 with 1 Axes>"
            ]
          },
          "metadata": {
            "tags": [],
            "needs_background": "light"
          }
        },
        {
          "output_type": "stream",
          "text": [
            "Epoch: 0: Train loss: 26450351.65416079\n",
            "Test loss: 26495986.0, Minimum test loss: 26495986.0\n",
            "Epoch: 10: Train loss: 26345229.471368123\n",
            "Test loss: 26376544.0, Minimum test loss: 26376544.0\n",
            "Epoch: 20: Train loss: 26073022.195204515\n",
            "Test loss: 26095700.0, Minimum test loss: 26095700.0\n",
            "Epoch: 30: Train loss: 25673835.194922425\n",
            "Test loss: 25699810.0, Minimum test loss: 25699810.0\n",
            "Epoch: 40: Train loss: 25169139.770944994\n",
            "Test loss: 25192878.0, Minimum test loss: 25192878.0\n",
            "Epoch: 50: Train loss: 24593213.23779972\n",
            "Test loss: 24588766.0, Minimum test loss: 24588766.0\n",
            "Epoch: 60: Train loss: 23908896.527503528\n",
            "Test loss: 23907398.0, Minimum test loss: 23907398.0\n",
            "Epoch: 70: Train loss: 23140576.362200283\n",
            "Test loss: 23125292.0, Minimum test loss: 23125292.0\n",
            "Epoch: 80: Train loss: 22268402.740761638\n",
            "Test loss: 22256176.0, Minimum test loss: 22256176.0\n",
            "Epoch: 90: Train loss: 21341412.117912553\n",
            "Test loss: 21312886.0, Minimum test loss: 21312886.0\n",
            "Epoch: 100: Train loss: 20310353.851057827\n",
            "Test loss: 20281230.0, Minimum test loss: 20281230.0\n",
            "Epoch: 110: Train loss: 19214814.274753172\n",
            "Test loss: 19152450.0, Minimum test loss: 19152450.0\n",
            "Epoch: 120: Train loss: 18011578.901269395\n",
            "Test loss: 17995140.0, Minimum test loss: 17995140.0\n",
            "Epoch: 130: Train loss: 16745291.702115655\n",
            "Test loss: 16680607.0, Minimum test loss: 16680607.0\n",
            "Epoch: 140: Train loss: 15368030.639210155\n",
            "Test loss: 15341241.0, Minimum test loss: 15341241.0\n",
            "Epoch: 150: Train loss: 13973990.115091678\n",
            "Test loss: 13914902.0, Minimum test loss: 13914902.0\n",
            "Epoch: 160: Train loss: 12526403.705782793\n",
            "Test loss: 12424932.0, Minimum test loss: 12424932.0\n",
            "Epoch: 170: Train loss: 11019223.875317348\n",
            "Test loss: 10925876.0, Minimum test loss: 10925876.0\n",
            "Epoch: 180: Train loss: 9464739.323272215\n",
            "Test loss: 9349452.0, Minimum test loss: 9349452.0\n",
            "Epoch: 190: Train loss: 7918090.103667137\n",
            "Test loss: 7866537.0, Minimum test loss: 7866537.0\n",
            "Epoch: 200: Train loss: 6459995.063540198\n",
            "Test loss: 6296946.5, Minimum test loss: 6296946.5\n",
            "Epoch: 210: Train loss: 5147038.307475317\n",
            "Test loss: 4990014.0, Minimum test loss: 4990014.0\n",
            "Epoch: 220: Train loss: 4237035.757545839\n",
            "Test loss: 3887747.5, Minimum test loss: 3887747.5\n",
            "Epoch: 230: Train loss: 3890587.12842031\n",
            "Test loss: 3472147.5, Minimum test loss: 3456278.25\n",
            "Epoch: 240: Train loss: 3302752.8478138223\n",
            "Test loss: 2881749.5, Minimum test loss: 2781478.25\n",
            "Epoch: 250: Train loss: 3155770.760155148\n",
            "Test loss: 2819628.0, Minimum test loss: 2731137.75\n",
            "Epoch: 260: Train loss: 3055215.6692524683\n",
            "Test loss: 2877031.0, Minimum test loss: 2656397.0\n",
            "Epoch: 270: Train loss: 3034151.1612834977\n",
            "Test loss: 2696284.25, Minimum test loss: 2430117.25\n",
            "Epoch: 280: Train loss: 2810165.082087447\n",
            "Test loss: 2398019.5, Minimum test loss: 2228964.0\n",
            "Epoch: 290: Train loss: 2753777.599083216\n",
            "Test loss: 2179308.5, Minimum test loss: 2163070.5\n",
            "Epoch: 300: Train loss: 2664197.5419605076\n",
            "Test loss: 2653645.5, Minimum test loss: 2163070.5\n",
            "Epoch: 310: Train loss: 2639356.031593794\n",
            "Test loss: 2223356.25, Minimum test loss: 2163070.5\n",
            "Epoch: 320: Train loss: 2570651.7124823695\n",
            "Test loss: 2276860.25, Minimum test loss: 2129882.75\n",
            "Epoch: 330: Train loss: 2511982.817489422\n",
            "Test loss: 2224793.75, Minimum test loss: 2129882.75\n",
            "Epoch: 340: Train loss: 2520170.428984485\n",
            "Test loss: 2284362.0, Minimum test loss: 2098840.75\n",
            "Epoch: 350: Train loss: 2518789.796473907\n",
            "Test loss: 2000877.375, Minimum test loss: 2000877.375\n",
            "Epoch: 360: Train loss: 2438031.1788434414\n",
            "Test loss: 2290871.5, Minimum test loss: 2000877.375\n",
            "Epoch: 370: Train loss: 2338130.7539492245\n",
            "Test loss: 2067142.875, Minimum test loss: 1995561.0\n",
            "Epoch: 380: Train loss: 2321778.4675599434\n",
            "Test loss: 1995222.25, Minimum test loss: 1935185.5\n",
            "Epoch: 390: Train loss: 2250762.931029619\n",
            "Test loss: 2116252.0, Minimum test loss: 1935185.5\n",
            "Epoch: 400: Train loss: 2335238.9859308884\n",
            "Test loss: 2107689.75, Minimum test loss: 1914121.125\n",
            "Epoch: 410: Train loss: 2332199.423307475\n",
            "Test loss: 2290011.5, Minimum test loss: 1914121.125\n",
            "Epoch: 420: Train loss: 2420877.8493653033\n",
            "Test loss: 2034209.625, Minimum test loss: 1914121.125\n",
            "Epoch: 430: Train loss: 2284242.609308886\n",
            "Test loss: 1865817.375, Minimum test loss: 1865817.375\n",
            "Epoch: 440: Train loss: 2401852.983779972\n",
            "Test loss: 2072801.375, Minimum test loss: 1865817.375\n",
            "Epoch: 450: Train loss: 2131447.284696756\n",
            "Test loss: 2107907.75, Minimum test loss: 1865817.375\n",
            "Epoch: 460: Train loss: 2337529.6047954867\n",
            "Test loss: 1979670.875, Minimum test loss: 1865817.375\n",
            "Epoch: 470: Train loss: 2250686.54280677\n",
            "Test loss: 2077612.875, Minimum test loss: 1865817.375\n",
            "Epoch: 480: Train loss: 2127252.623765867\n",
            "Test loss: 1957209.875, Minimum test loss: 1865817.375\n",
            "Epoch: 490: Train loss: 2251093.6755289137\n",
            "Test loss: 2142353.25, Minimum test loss: 1865817.375\n"
          ],
          "name": "stdout"
        },
        {
          "output_type": "display_data",
          "data": {
            "image/png": "[encoded data removed]",
            "text/plain": [
              "<Figure size 432x288 with 1 Axes>"
            ]
          },
          "metadata": {
            "tags": [],
            "needs_background": "light"
          }
        },
        {
          "output_type": "stream",
          "text": [
            "Epoch: 0: Train loss: 26477093.636671368\n",
            "Test loss: 26496040.0, Minimum test loss: 26496040.0\n",
            "Epoch: 10: Train loss: 26343312.75937941\n",
            "Test loss: 26375960.0, Minimum test loss: 26375960.0\n",
            "Epoch: 20: Train loss: 26078101.212976024\n",
            "Test loss: 26098266.0, Minimum test loss: 26098266.0\n",
            "Epoch: 30: Train loss: 25689091.118758816\n",
            "Test loss: 25695658.0, Minimum test loss: 25695658.0\n",
            "Epoch: 40: Train loss: 25175327.77771509\n",
            "Test loss: 25198244.0, Minimum test loss: 25198244.0\n",
            "Epoch: 50: Train loss: 24608188.005077574\n",
            "Test loss: 24581886.0, Minimum test loss: 24581886.0\n",
            "Epoch: 60: Train loss: 23916651.524400566\n",
            "Test loss: 23910738.0, Minimum test loss: 23910738.0\n",
            "Epoch: 70: Train loss: 23158620.147249646\n",
            "Test loss: 23127122.0, Minimum test loss: 23127122.0\n",
            "Epoch: 80: Train loss: 22301218.805641748\n",
            "Test loss: 22244912.0, Minimum test loss: 22244912.0\n",
            "Epoch: 90: Train loss: 21341363.63554302\n",
            "Test loss: 21317388.0, Minimum test loss: 21317388.0\n",
            "Epoch: 100: Train loss: 20332462.21551481\n",
            "Test loss: 20275188.0, Minimum test loss: 20275188.0\n",
            "Epoch: 110: Train loss: 19219665.12270804\n",
            "Test loss: 19155078.0, Minimum test loss: 19155078.0\n",
            "Epoch: 120: Train loss: 18021759.502115656\n",
            "Test loss: 17964958.0, Minimum test loss: 17964958.0\n",
            "Epoch: 130: Train loss: 16764405.729196051\n",
            "Test loss: 16670853.0, Minimum test loss: 16670853.0\n",
            "Epoch: 140: Train loss: 15419925.915373767\n",
            "Test loss: 15339090.0, Minimum test loss: 15339090.0\n",
            "Epoch: 150: Train loss: 14013734.143300423\n",
            "Test loss: 13944987.0, Minimum test loss: 13944987.0\n",
            "Epoch: 160: Train loss: 12535076.481523272\n",
            "Test loss: 12424383.0, Minimum test loss: 12424383.0\n",
            "Epoch: 170: Train loss: 11011595.77235543\n",
            "Test loss: 10885359.0, Minimum test loss: 10885359.0\n",
            "Epoch: 180: Train loss: 9417045.134555712\n",
            "Test loss: 9354532.0, Minimum test loss: 9354532.0\n",
            "Epoch: 190: Train loss: 7910778.929478139\n",
            "Test loss: 7793729.0, Minimum test loss: 7793729.0\n",
            "Epoch: 200: Train loss: 6366901.755712271\n",
            "Test loss: 6198144.5, Minimum test loss: 6198144.5\n",
            "Epoch: 210: Train loss: 5112562.799717912\n",
            "Test loss: 4829510.0, Minimum test loss: 4829510.0\n",
            "Epoch: 220: Train loss: 4082691.3385049365\n",
            "Test loss: 3605393.25, Minimum test loss: 3605393.25\n",
            "Epoch: 230: Train loss: 3452908.461212976\n",
            "Test loss: 2997277.5, Minimum test loss: 2969331.0\n",
            "Epoch: 240: Train loss: 3414634.7610719325\n",
            "Test loss: 2523701.75, Minimum test loss: 2523701.75\n",
            "Epoch: 250: Train loss: 3122317.64696756\n",
            "Test loss: 2586780.0, Minimum test loss: 2460249.0\n",
            "Epoch: 260: Train loss: 3340569.221086037\n",
            "Test loss: 2551161.5, Minimum test loss: 2367050.5\n",
            "Epoch: 270: Train loss: 3026589.427503526\n",
            "Test loss: 2426296.75, Minimum test loss: 2202596.5\n",
            "Epoch: 280: Train loss: 2768706.0518335686\n",
            "Test loss: 2040774.0, Minimum test loss: 2040774.0\n",
            "Epoch: 290: Train loss: 2698810.2651622\n",
            "Test loss: 2158723.75, Minimum test loss: 1925187.5\n",
            "Epoch: 300: Train loss: 2517539.6511988714\n",
            "Test loss: 2040127.625, Minimum test loss: 1925187.5\n",
            "Epoch: 310: Train loss: 2671015.322249647\n",
            "Test loss: 2079762.125, Minimum test loss: 1925187.5\n",
            "Epoch: 320: Train loss: 2580724.4409026797\n",
            "Test loss: 2400715.75, Minimum test loss: 1925187.5\n",
            "Epoch: 330: Train loss: 2561752.5063469675\n",
            "Test loss: 1952665.25, Minimum test loss: 1925187.5\n",
            "Epoch: 340: Train loss: 2475390.728067701\n",
            "Test loss: 2150367.5, Minimum test loss: 1922220.125\n",
            "Epoch: 350: Train loss: 2416422.751339915\n",
            "Test loss: 1879238.25, Minimum test loss: 1825665.375\n",
            "Epoch: 360: Train loss: 2282691.3585331454\n",
            "Test loss: 1948745.0, Minimum test loss: 1800849.375\n",
            "Epoch: 370: Train loss: 2383222.9313117065\n",
            "Test loss: 1889330.875, Minimum test loss: 1800849.375\n",
            "Epoch: 380: Train loss: 2424596.4148801127\n",
            "Test loss: 2083852.875, Minimum test loss: 1800849.375\n",
            "Epoch: 390: Train loss: 2266689.6097672777\n",
            "Test loss: 2003134.625, Minimum test loss: 1800849.375\n",
            "Epoch: 400: Train loss: 2440467.479971791\n",
            "Test loss: 1773643.625, Minimum test loss: 1773643.625\n",
            "Epoch: 410: Train loss: 2313800.5238011284\n",
            "Test loss: 1731063.5, Minimum test loss: 1731063.5\n",
            "Epoch: 420: Train loss: 2259001.5906205922\n",
            "Test loss: 1766036.875, Minimum test loss: 1731063.5\n",
            "Epoch: 430: Train loss: 2223215.442471791\n",
            "Test loss: 2024070.0, Minimum test loss: 1731063.5\n",
            "Epoch: 440: Train loss: 2187476.4247884345\n",
            "Test loss: 1950122.0, Minimum test loss: 1731063.5\n",
            "Epoch: 450: Train loss: 2125623.6019040905\n",
            "Test loss: 1709026.25, Minimum test loss: 1709026.25\n",
            "Epoch: 460: Train loss: 2206809.028279267\n",
            "Test loss: 1684366.125, Minimum test loss: 1684366.125\n",
            "Epoch: 470: Train loss: 2272190.1768335686\n",
            "Test loss: 1900580.25, Minimum test loss: 1684366.125\n",
            "Epoch: 480: Train loss: 2132526.669464034\n",
            "Test loss: 1799013.125, Minimum test loss: 1684366.125\n",
            "Epoch: 490: Train loss: 2021215.624541608\n",
            "Test loss: 1861478.75, Minimum test loss: 1684366.125\n"
          ],
          "name": "stdout"
        },
        {
          "output_type": "display_data",
          "data": {
            "image/png": "[encoded data removed]",
            "text/plain": [
              "<Figure size 432x288 with 1 Axes>"
            ]
          },
          "metadata": {
            "tags": [],
            "needs_background": "light"
          }
        },
        {
          "output_type": "stream",
          "text": [
            "Epoch: 0: Train loss: 26490924.934273627\n",
            "Test loss: 26496006.0, Minimum test loss: 26496006.0\n",
            "Epoch: 10: Train loss: 26368084.927503526\n",
            "Test loss: 26376242.0, Minimum test loss: 26376242.0\n",
            "Epoch: 20: Train loss: 26118341.231593795\n",
            "Test loss: 26097556.0, Minimum test loss: 26097556.0\n",
            "Epoch: 30: Train loss: 25708481.060648803\n",
            "Test loss: 25698702.0, Minimum test loss: 25698702.0\n",
            "Epoch: 40: Train loss: 25210617.84767278\n",
            "Test loss: 25189342.0, Minimum test loss: 25189342.0\n",
            "Epoch: 50: Train loss: 24604618.498730607\n",
            "Test loss: 24590022.0, Minimum test loss: 24590022.0\n",
            "Epoch: 60: Train loss: 23931217.8764457\n",
            "Test loss: 23901144.0, Minimum test loss: 23901144.0\n",
            "Epoch: 70: Train loss: 23156503.821156558\n",
            "Test loss: 23124838.0, Minimum test loss: 23124838.0\n",
            "Epoch: 80: Train loss: 22304244.81015515\n",
            "Test loss: 22262636.0, Minimum test loss: 22262636.0\n",
            "Epoch: 90: Train loss: 21362238.17150917\n",
            "Test loss: 21302398.0, Minimum test loss: 21302398.0\n",
            "Epoch: 100: Train loss: 20339952.684344146\n",
            "Test loss: 20284518.0, Minimum test loss: 20284518.0\n",
            "Epoch: 110: Train loss: 19225415.751198873\n",
            "Test loss: 19165360.0, Minimum test loss: 19165360.0\n",
            "Epoch: 120: Train loss: 18025449.870239776\n",
            "Test loss: 17928054.0, Minimum test loss: 17928054.0\n",
            "Epoch: 130: Train loss: 16738187.250211565\n",
            "Test loss: 16686021.0, Minimum test loss: 16686021.0\n",
            "Epoch: 140: Train loss: 15433003.844569817\n",
            "Test loss: 15383329.0, Minimum test loss: 15383329.0\n",
            "Epoch: 150: Train loss: 14008539.710296191\n",
            "Test loss: 13862650.0, Minimum test loss: 13862650.0\n",
            "Epoch: 160: Train loss: 12525224.52157969\n",
            "Test loss: 12431012.0, Minimum test loss: 12431012.0\n",
            "Epoch: 170: Train loss: 11033595.959943583\n",
            "Test loss: 10861497.0, Minimum test loss: 10861497.0\n",
            "Epoch: 180: Train loss: 9437043.103808181\n",
            "Test loss: 9386169.0, Minimum test loss: 9386169.0\n",
            "Epoch: 190: Train loss: 7865327.447813822\n",
            "Test loss: 7702183.0, Minimum test loss: 7702183.0\n",
            "Epoch: 200: Train loss: 6387005.26403385\n",
            "Test loss: 6160186.0, Minimum test loss: 6160186.0\n",
            "Epoch: 210: Train loss: 4996108.608039492\n",
            "Test loss: 4726848.0, Minimum test loss: 4726848.0\n",
            "Epoch: 220: Train loss: 3995378.767842031\n",
            "Test loss: 3769083.25, Minimum test loss: 3761134.5\n",
            "Epoch: 230: Train loss: 3752832.2687588152\n",
            "Test loss: 3068211.0, Minimum test loss: 3068211.0\n",
            "Epoch: 240: Train loss: 3352504.513117066\n",
            "Test loss: 2662831.75, Minimum test loss: 2629947.75\n",
            "Epoch: 250: Train loss: 3155708.08370945\n",
            "Test loss: 2628336.5, Minimum test loss: 2571821.0\n",
            "Epoch: 260: Train loss: 3058721.3082863186\n",
            "Test loss: 2388207.75, Minimum test loss: 2375995.0\n",
            "Epoch: 270: Train loss: 2793463.799506347\n",
            "Test loss: 2327173.5, Minimum test loss: 1999788.0\n",
            "Epoch: 280: Train loss: 2692902.014315938\n",
            "Test loss: 2365227.75, Minimum test loss: 1999788.0\n",
            "Epoch: 290: Train loss: 2469777.95\n",
            "Test loss: 2001307.25, Minimum test loss: 1884769.125\n",
            "Epoch: 300: Train loss: 2598140.1412552893\n",
            "Test loss: 2253435.0, Minimum test loss: 1884769.125\n",
            "Epoch: 310: Train loss: 2395255.1823342736\n",
            "Test loss: 1973298.375, Minimum test loss: 1763237.375\n",
            "Epoch: 320: Train loss: 2381486.867842031\n",
            "Test loss: 1963685.5, Minimum test loss: 1763237.375\n",
            "Epoch: 330: Train loss: 2486896.477926657\n",
            "Test loss: 2058310.0, Minimum test loss: 1763237.375\n",
            "Epoch: 340: Train loss: 2330598.825634697\n",
            "Test loss: 1908740.375, Minimum test loss: 1763237.375\n",
            "Epoch: 350: Train loss: 2607638.5997179127\n",
            "Test loss: 2108499.5, Minimum test loss: 1763237.375\n",
            "Epoch: 360: Train loss: 2591720.182157969\n",
            "Test loss: 1806094.375, Minimum test loss: 1752093.75\n",
            "Epoch: 370: Train loss: 2266323.341889986\n",
            "Test loss: 1827318.875, Minimum test loss: 1717345.0\n",
            "Epoch: 380: Train loss: 2344734.0021861778\n",
            "Test loss: 1803460.0, Minimum test loss: 1681121.625\n",
            "Epoch: 390: Train loss: 2378557.4588857545\n",
            "Test loss: 1816261.25, Minimum test loss: 1681121.625\n",
            "Epoch: 400: Train loss: 2187090.978067701\n",
            "Test loss: 1796422.0, Minimum test loss: 1681121.625\n",
            "Epoch: 410: Train loss: 2313602.0871650213\n",
            "Test loss: 1723156.0, Minimum test loss: 1681121.625\n",
            "Epoch: 420: Train loss: 2145315.118265162\n",
            "Test loss: 1967122.375, Minimum test loss: 1660241.0\n",
            "Epoch: 430: Train loss: 2105203.872954866\n",
            "Test loss: 1708702.0, Minimum test loss: 1660241.0\n",
            "Epoch: 440: Train loss: 2343080.5174189\n",
            "Test loss: 2095770.375, Minimum test loss: 1660241.0\n",
            "Epoch: 450: Train loss: 2214879.6612834977\n",
            "Test loss: 1806620.0, Minimum test loss: 1660241.0\n",
            "Epoch: 460: Train loss: 2034754.221403385\n",
            "Test loss: 1620741.125, Minimum test loss: 1620741.125\n",
            "Epoch: 470: Train loss: 2094573.5078631877\n",
            "Test loss: 1806191.875, Minimum test loss: 1620741.125\n",
            "Epoch: 480: Train loss: 2071956.2504936531\n",
            "Test loss: 1783476.25, Minimum test loss: 1600004.875\n",
            "Epoch: 490: Train loss: 2122172.691255289\n",
            "Test loss: 1821506.375, Minimum test loss: 1600004.875\n"
          ],
          "name": "stdout"
        },
        {
          "output_type": "display_data",
          "data": {
            "image/png": "[encoded data removed]",
            "text/plain": [
              "<Figure size 432x288 with 1 Axes>"
            ]
          },
          "metadata": {
            "tags": [],
            "needs_background": "light"
          }
        },
        {
          "output_type": "stream",
          "text": [
            "Epoch: 0: Train loss: 26294741.1977433\n",
            "Test loss: 26496002.0, Minimum test loss: 26496002.0\n",
            "Epoch: 10: Train loss: 26187420.784203105\n",
            "Test loss: 26376118.0, Minimum test loss: 26376118.0\n",
            "Epoch: 20: Train loss: 25919559.38222849\n",
            "Test loss: 26098072.0, Minimum test loss: 26098072.0\n",
            "Epoch: 30: Train loss: 25509568.260648802\n",
            "Test loss: 25696774.0, Minimum test loss: 25696774.0\n",
            "Epoch: 40: Train loss: 25029576.90493653\n",
            "Test loss: 25190368.0, Minimum test loss: 25190368.0\n",
            "Epoch: 50: Train loss: 24452311.943018336\n",
            "Test loss: 24593170.0, Minimum test loss: 24593170.0\n",
            "Epoch: 60: Train loss: 23758227.92609309\n",
            "Test loss: 23897626.0, Minimum test loss: 23897626.0\n",
            "Epoch: 70: Train loss: 22977494.34922426\n",
            "Test loss: 23138256.0, Minimum test loss: 23138256.0\n",
            "Epoch: 80: Train loss: 22135691.84428773\n",
            "Test loss: 22273118.0, Minimum test loss: 22273118.0\n",
            "Epoch: 90: Train loss: 21208811.202820875\n",
            "Test loss: 21322076.0, Minimum test loss: 21322076.0\n",
            "Epoch: 100: Train loss: 20153835.305500705\n",
            "Test loss: 20268372.0, Minimum test loss: 20268372.0\n",
            "Epoch: 110: Train loss: 19068484.29280677\n",
            "Test loss: 19159338.0, Minimum test loss: 19159338.0\n",
            "Epoch: 120: Train loss: 17867493.227080394\n",
            "Test loss: 17993266.0, Minimum test loss: 17993266.0\n",
            "Epoch: 130: Train loss: 16604844.062341325\n",
            "Test loss: 16712108.0, Minimum test loss: 16712108.0\n",
            "Epoch: 140: Train loss: 15288739.534273624\n",
            "Test loss: 15337751.0, Minimum test loss: 15337751.0\n",
            "Epoch: 150: Train loss: 13859869.681523273\n",
            "Test loss: 13925237.0, Minimum test loss: 13925237.0\n",
            "Epoch: 160: Train loss: 12397389.036671368\n",
            "Test loss: 12481687.0, Minimum test loss: 12481687.0\n",
            "Epoch: 170: Train loss: 10841778.64090268\n",
            "Test loss: 10896065.0, Minimum test loss: 10896065.0\n",
            "Epoch: 180: Train loss: 9382628.256981663\n",
            "Test loss: 9375445.0, Minimum test loss: 9375445.0\n",
            "Epoch: 190: Train loss: 7779616.910578279\n",
            "Test loss: 7919717.5, Minimum test loss: 7919717.5\n",
            "Epoch: 200: Train loss: 6390975.5256699575\n",
            "Test loss: 6253499.5, Minimum test loss: 6253499.5\n",
            "Epoch: 210: Train loss: 5032480.587023977\n",
            "Test loss: 5047926.5, Minimum test loss: 5023657.0\n",
            "Epoch: 220: Train loss: 4403284.643300423\n",
            "Test loss: 4001000.5, Minimum test loss: 4001000.5\n",
            "Epoch: 230: Train loss: 3685480.504583921\n",
            "Test loss: 3123302.0, Minimum test loss: 3123302.0\n",
            "Epoch: 240: Train loss: 3437948.334555712\n",
            "Test loss: 2845967.0, Minimum test loss: 2735219.5\n",
            "Epoch: 250: Train loss: 3270594.5145275034\n",
            "Test loss: 2706678.5, Minimum test loss: 2582657.75\n",
            "Epoch: 260: Train loss: 3036096.051480959\n",
            "Test loss: 2485463.5, Minimum test loss: 2345799.0\n",
            "Epoch: 270: Train loss: 2793562.0620592386\n",
            "Test loss: 2258619.25, Minimum test loss: 2121778.75\n",
            "Epoch: 280: Train loss: 2736411.223906911\n",
            "Test loss: 2120202.75, Minimum test loss: 2003104.875\n",
            "Epoch: 290: Train loss: 2839973.1380112837\n",
            "Test loss: 2028531.875, Minimum test loss: 2003104.875\n",
            "Epoch: 300: Train loss: 2607336.9050070522\n",
            "Test loss: 2138540.0, Minimum test loss: 1977000.125\n",
            "Epoch: 310: Train loss: 2627679.854090268\n",
            "Test loss: 2210270.0, Minimum test loss: 1977000.125\n",
            "Epoch: 320: Train loss: 2619025.1916078986\n",
            "Test loss: 1957962.5, Minimum test loss: 1957962.5\n",
            "Epoch: 330: Train loss: 2427609.563751763\n",
            "Test loss: 2480788.25, Minimum test loss: 1929109.875\n",
            "Epoch: 340: Train loss: 2465795.133568406\n",
            "Test loss: 2013364.75, Minimum test loss: 1929109.875\n",
            "Epoch: 350: Train loss: 2294614.979971791\n",
            "Test loss: 1944281.0, Minimum test loss: 1929109.875\n",
            "Epoch: 360: Train loss: 2415574.056699577\n",
            "Test loss: 2212527.25, Minimum test loss: 1887212.25\n",
            "Epoch: 370: Train loss: 2418767.401939351\n",
            "Test loss: 1900771.125, Minimum test loss: 1887212.25\n",
            "Epoch: 380: Train loss: 2401714.8002820876\n",
            "Test loss: 1881171.5, Minimum test loss: 1881171.5\n",
            "Epoch: 390: Train loss: 2374848.6476727785\n",
            "Test loss: 2175656.75, Minimum test loss: 1833839.625\n",
            "Epoch: 400: Train loss: 2304849.810366714\n",
            "Test loss: 1839338.625, Minimum test loss: 1833839.625\n",
            "Epoch: 410: Train loss: 2251638.0119181946\n",
            "Test loss: 2164340.5, Minimum test loss: 1833839.625\n",
            "Epoch: 420: Train loss: 2089017.0675599435\n",
            "Test loss: 1995539.5, Minimum test loss: 1833839.625\n",
            "Epoch: 430: Train loss: 2268183.8210507757\n",
            "Test loss: 2060681.75, Minimum test loss: 1819937.375\n",
            "Epoch: 440: Train loss: 2195065.6241889987\n",
            "Test loss: 2039653.5, Minimum test loss: 1819937.375\n",
            "Epoch: 450: Train loss: 2266126.6950634695\n",
            "Test loss: 2209890.75, Minimum test loss: 1819937.375\n",
            "Epoch: 460: Train loss: 2210125.2672073343\n",
            "Test loss: 2091962.0, Minimum test loss: 1819109.625\n",
            "Epoch: 470: Train loss: 2063641.0330394923\n",
            "Test loss: 1941627.75, Minimum test loss: 1765415.375\n",
            "Epoch: 480: Train loss: 2241829.0202045133\n",
            "Test loss: 2020972.125, Minimum test loss: 1765415.375\n",
            "Epoch: 490: Train loss: 2093986.1528208745\n",
            "Test loss: 1831124.875, Minimum test loss: 1765415.375\n"
          ],
          "name": "stdout"
        },
        {
          "output_type": "display_data",
          "data": {
            "image/png": "[encoded data removed]",
            "text/plain": [
              "<Figure size 432x288 with 1 Axes>"
            ]
          },
          "metadata": {
            "tags": [],
            "needs_background": "light"
          }
        }
      ]
    },
    {
      "cell_type": "code",
      "metadata": {
        "id": "xK2zeqGmToK1",
        "colab": {
          "base_uri": "https://localhost:8080/"
        },
        "outputId": "a92deb14-b14e-45fa-86ac-32f0ffed8f1f"
      },
      "source": [
        "network = MLP2().cuda()\n",
        "train_ls, val_ls = train(network, X, Y, None, None, num_epochs, lr, batch_size, lr_step)"
      ],
      "execution_count": 39,
      "outputs": [
        {
          "output_type": "stream",
          "text": [
            "Epoch: 0: Train loss: 26458719.746332657\n",
            "Epoch: 10: Train loss: 26274420.635522455\n",
            "Epoch: 20: Train loss: 25866459.002933875\n",
            "Epoch: 30: Train loss: 25288879.67185737\n",
            "Epoch: 40: Train loss: 24570190.68878357\n",
            "Epoch: 50: Train loss: 23691695.344166104\n",
            "Epoch: 60: Train loss: 22685143.54863462\n",
            "Epoch: 70: Train loss: 21556315.80365606\n",
            "Epoch: 80: Train loss: 20268257.04942451\n",
            "Epoch: 90: Train loss: 18863220.97404649\n",
            "Epoch: 100: Train loss: 17336722.38772286\n",
            "Epoch: 110: Train loss: 15692317.280974949\n",
            "Epoch: 120: Train loss: 13948165.016249154\n",
            "Epoch: 130: Train loss: 12087786.298352517\n",
            "Epoch: 140: Train loss: 10159097.127962084\n",
            "Epoch: 150: Train loss: 8194292.485894832\n",
            "Epoch: 160: Train loss: 6435777.202663056\n",
            "Epoch: 170: Train loss: 4880408.096197247\n",
            "Epoch: 180: Train loss: 3898380.4542428344\n",
            "Epoch: 190: Train loss: 3520743.9733694424\n",
            "Epoch: 200: Train loss: 3200035.458812909\n",
            "Epoch: 210: Train loss: 3198131.9787294064\n",
            "Epoch: 220: Train loss: 2964812.340103814\n",
            "Epoch: 230: Train loss: 2859649.8222748814\n",
            "Epoch: 240: Train loss: 2701891.6538027534\n",
            "Epoch: 250: Train loss: 2646200.960054164\n",
            "Epoch: 260: Train loss: 2549033.666553825\n",
            "Epoch: 270: Train loss: 2674335.5652222973\n",
            "Epoch: 280: Train loss: 2573348.5845181677\n",
            "Epoch: 290: Train loss: 2503043.8801624915\n",
            "Epoch: 300: Train loss: 2496927.266869781\n",
            "Epoch: 310: Train loss: 2295416.9801399233\n",
            "Epoch: 320: Train loss: 2378879.314770932\n",
            "Epoch: 330: Train loss: 2378525.9271609117\n",
            "Epoch: 340: Train loss: 2208608.517433988\n",
            "Epoch: 350: Train loss: 2368053.1315730084\n",
            "Epoch: 360: Train loss: 2197451.8239675015\n",
            "Epoch: 370: Train loss: 2238202.1866395846\n",
            "Epoch: 380: Train loss: 2334379.142208305\n",
            "Epoch: 390: Train loss: 2177387.479293613\n",
            "Epoch: 400: Train loss: 2263508.2810877906\n",
            "Epoch: 410: Train loss: 2141116.3259422253\n",
            "Epoch: 420: Train loss: 2152236.5310313697\n",
            "Epoch: 430: Train loss: 2266342.83389754\n",
            "Epoch: 440: Train loss: 2182178.034303769\n",
            "Epoch: 450: Train loss: 2207504.0489731436\n",
            "Epoch: 460: Train loss: 2065267.4684044234\n",
            "Epoch: 470: Train loss: 2069603.4616057323\n",
            "Epoch: 480: Train loss: 2127638.5630783117\n",
            "Epoch: 490: Train loss: 2110798.5747009707\n"
          ],
          "name": "stdout"
        }
      ]
    },
    {
      "cell_type": "code",
      "metadata": {
        "id": "miKsHBl9T0cP"
      },
      "source": [
        "with torch.no_grad():\n",
        "    preds = network(torch.from_numpy(test_x).float().cuda()).cpu()\n",
        "    preds = pd.Series(preds.reshape(1, -1)[0], name='time_to_eruption')\n",
        "    ids = pd.Series(test_ids, name='segment_id')\n",
        "    submission = pd.concat([ids, preds], axis=1)\n",
        "    submission.to_csv('nn_stft.csv', index=False)"
      ],
      "execution_count": 40,
      "outputs": []
    },
    {
      "cell_type": "markdown",
      "metadata": {
        "id": "-MREnGWRlCGq"
      },
      "source": [
        "## Comparing Results of validation data"
      ]
    },
    {
      "cell_type": "code",
      "metadata": {
        "id": "MCXUuT_Ym8ou"
      },
      "source": [
        "d = {\n",
        "    'Time Domain Linear Regression': lin_val_score_time,\n",
        "    'Time Domain Decision Tree': dt_val_score_time,\n",
        "    'Time Domain Random Forest': rf_val_score_time,\n",
        "    'Time Domain Neural Network': nn_val_score_time,\n",
        "    'Frequency Domain Linear Regression': lin_val_score_stft,\n",
        "    'Frequency Domain Decision Tree': dt_val_score_stft,\n",
        "    'Frequency Domain Random Forest': rf_val_score_stft,\n",
        "    'Frequency Domain Neural Network': nn_val_score_stft\n",
        "}\n",
        "sorted_keys = sorted(d, key=d.get) "
      ],
      "execution_count": 41,
      "outputs": []
    },
    {
      "cell_type": "code",
      "metadata": {
        "id": "xHLhFrj9Zp5O",
        "colab": {
          "base_uri": "https://localhost:8080/"
        },
        "outputId": "ffcfd9be-dfc8-466e-8189-fda5b6d93327"
      },
      "source": [
        "for key in sorted_keys:\n",
        "    print(f\"{key}: {d[key]}\")"
      ],
      "execution_count": 42,
      "outputs": [
        {
          "output_type": "stream",
          "text": [
            "Frequency Domain Neural Network: 2006641.4\n",
            "Frequency Domain Random Forest: 4398938.783061467\n",
            "Time Domain Neural Network: 4449510.4\n",
            "Time Domain Random Forest: 6581023.933463447\n",
            "Frequency Domain Decision Tree: 7769079.72694672\n",
            "Time Domain Decision Tree: 9930223.200128866\n",
            "Frequency Domain Linear Regression: 9986394.436401863\n",
            "Time Domain Linear Regression: 12409603.462650433\n"
          ],
          "name": "stdout"
        }
      ]
    },
    {
      "cell_type": "markdown",
      "metadata": {
        "id": "kyvQXCl6axwf"
      },
      "source": [
        "Looks like the best results come from using the neural network in the frequency domain."
      ]
    }
  ]
}